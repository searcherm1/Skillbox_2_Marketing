{
 "cells": [
  {
   "cell_type": "markdown",
   "metadata": {
    "id": "LJ3vlWlmolKJ"
   },
   "source": [
    "#**Проект Мастерской Яндекс практикума**"
   ]
  },
  {
   "cell_type": "markdown",
   "metadata": {
    "id": "ISOate6ToSab"
   },
   "source": [
    "# Введение"
   ]
  },
  {
   "cell_type": "markdown",
   "metadata": {
    "id": "06vJXXGIoXyL"
   },
   "source": [
    "В работе рассматриваются данные одного из интернет магазинов, состоящие из 5 датафреймов. На базе этих датафреймов создана модель машинного обучения, которая предсказывает веротяность повторной покупки клиента.\n",
    "Метрикой для оценки качества модели является ROC-AUC."
   ]
  },
  {
   "cell_type": "markdown",
   "metadata": {
    "id": "NFoPKu_wexFl"
   },
   "source": [
    "# Описание задачи"
   ]
  },
  {
   "cell_type": "markdown",
   "metadata": {
    "id": "PsrmUpiAhqRf"
   },
   "source": [
    "Интернет-магазин собирает историю покупателей, проводит рассылки предложений и\n",
    "планирует будущие продажи.\n",
    "<br>Для оптимизации процессов надо выделить пользователей, которые готовы совершить покупку в ближайшее время.\n",
    "<br>Решение данной задачи может быть применено в следующих областях:\n",
    " - оптимизация промо-офферов для тех клиентов, которые покупку не совершили;\n",
    " - кластеризация пользователей по интересам;\n",
    " - управление пользовательской базой для достижения снижения оттока;\n",
    " - тестирование новых продуктов и вариаций продаж."
   ]
  },
  {
   "cell_type": "markdown",
   "metadata": {
    "id": "hVG35pzAoAwk"
   },
   "source": [
    "# Цель проекта"
   ]
  },
  {
   "cell_type": "markdown",
   "metadata": {
    "id": "vQ-xglHooERM"
   },
   "source": [
    "Предсказать вероятность покупки клиентом товара в течение 90 дней.\n",
    "Цель будет достугнута при создании модели машинного обучения, которая решает задачу классификации."
   ]
  },
  {
   "cell_type": "markdown",
   "metadata": {
    "id": "5ZlNK_z2tJVX"
   },
   "source": [
    "#План проекта"
   ]
  },
  {
   "cell_type": "markdown",
   "metadata": {
    "id": "EvBprJrBuGOt"
   },
   "source": [
    "При выполнении проекта выполняются следующие шаги:\n",
    "- производится загрузка и обзор данных из файла;\n",
    "- производится предобработка данных;\n",
    "- исследовательский анализ данных;\n",
    "- создаются новые признаки;\n",
    "- проводится проверка данных на мультиколлинеарность;\n",
    "- создается модель МО;\n",
    "- выводится значимость признаков."
   ]
  },
  {
   "cell_type": "markdown",
   "metadata": {
    "id": "NWV8BE3vexdJ"
   },
   "source": [
    "Установка необходимых библиотек:"
   ]
  },
  {
   "cell_type": "code",
   "execution_count": 1087,
   "metadata": {
    "id": "TFnAWwaDY2An"
   },
   "outputs": [],
   "source": [
    "#! pip install phik -q\n",
    "#! pip install catboost -q"
   ]
  },
  {
   "cell_type": "markdown",
   "metadata": {
    "id": "uL9k0azcoOE3"
   },
   "source": [
    "Загрузка необходимых библиотек и установка значений переменных для работы с графиками в seaborn."
   ]
  },
  {
   "cell_type": "code",
   "execution_count": 1089,
   "metadata": {
    "id": "gwpSSLFQe1a2"
   },
   "outputs": [],
   "source": [
    "import pandas as pd\n",
    "import seaborn as sns\n",
    "import numpy as np\n",
    "from scipy import stats as st\n",
    "from sklearn.model_selection import train_test_split\n",
    "from sklearn.linear_model import LogisticRegression\n",
    "from sklearn.tree import DecisionTreeClassifier\n",
    "from sklearn.metrics import roc_auc_score\n",
    "from sklearn.preprocessing import (\n",
    "                                    StandardScaler,\n",
    "                                    MinMaxScaler,\n",
    "                                    OneHotEncoder,\n",
    "                                    OrdinalEncoder,\n",
    "                                    LabelEncoder\n",
    "                                   )\n",
    "from sklearn.model_selection import RandomizedSearchCV\n",
    "from sklearn.impute import SimpleImputer\n",
    "from sklearn.pipeline import Pipeline\n",
    "from sklearn.compose import ColumnTransformer\n",
    "import matplotlib.pyplot as plt\n",
    "import phik\n",
    "from catboost import CatBoostClassifier\n",
    "plt.rcParams['font.size'] = 10.0\n",
    "plt.rcParams.update({'axes.titlesize': 'large'})\n",
    "sns.set_context(\n",
    "                'notebook',\n",
    "                rc={\n",
    "                    'font.size': 10,\n",
    "                    'axes.titlesize': 10,\n",
    "                    'xtick.labelsize': 'small',\n",
    "                    'ytick.labelsize': 'small',\n",
    "                    'legend.fontsize': 'small',\n",
    "                    'legend.title_fontsize': 10\n",
    "                }\n",
    "            )\n",
    "RANDOM_STATE = 2025"
   ]
  },
  {
   "cell_type": "markdown",
   "metadata": {
    "id": "RIYniNqxZmz2"
   },
   "source": [
    "Общий план проекта:\n",
    "\n",
    "\n",
    "1.  Проверка зачитанных данных на:\n",
    "    *   пропуски\n",
    "    *   явные дубликаты\n",
    "    *   соответствие типов данных\n",
    "    *   подготовка к исследовательскому анализу данных.\n",
    "2.  Исследовательский анализ данных.\n",
    "Анализирую выбросы и аномалии в данных, заполняю пропуски и исследую данные на неявные дубликаты, работаю с ними.\n",
    "Цель - понять, как объединить данные для получения итого датасета, по которому будет построена модель МО.\n",
    "3. Создание финального датасета для обучения модели МL. Из этого сета необходимо сделать отложеную выборку для валидации модели.\n",
    "4. Создание пайплайна для рассмотрения нескольких моделей МО и выбора наилучшей.\n",
    "5. Задание со звездой - написать класс."
   ]
  },
  {
   "cell_type": "markdown",
   "metadata": {
    "id": "zVf4bD58fKe2"
   },
   "source": [
    "# Загрузка данных"
   ]
  },
  {
   "cell_type": "markdown",
   "metadata": {
    "id": "kSajzygQkuB3"
   },
   "source": [
    "## Файл apparel-messages\n",
    "Рассылки, которые были отправлены клиентам из таблицы покупок.\n",
    "* bulk_campaign_id идентификатор рекламной кампании\n",
    "* client_id идентификатор пользователя\n",
    "* message_id идентификатор сообщений\n",
    "* event тип действия\n",
    "* channel канал рассылки\n",
    "* date дата рассылки\n",
    "* created_at точное время создания сообщения"
   ]
  },
  {
   "cell_type": "code",
   "execution_count": 1093,
   "metadata": {
    "colab": {
     "base_uri": "https://localhost:8080/",
     "height": 206
    },
    "id": "1hltKdW9fTPT",
    "outputId": "655dafa3-93c8-4691-f95d-ed36b04625ce"
   },
   "outputs": [
    {
     "data": {
      "text/html": [
       "<div>\n",
       "<style scoped>\n",
       "    .dataframe tbody tr th:only-of-type {\n",
       "        vertical-align: middle;\n",
       "    }\n",
       "\n",
       "    .dataframe tbody tr th {\n",
       "        vertical-align: top;\n",
       "    }\n",
       "\n",
       "    .dataframe thead th {\n",
       "        text-align: right;\n",
       "    }\n",
       "</style>\n",
       "<table border=\"1\" class=\"dataframe\">\n",
       "  <thead>\n",
       "    <tr style=\"text-align: right;\">\n",
       "      <th></th>\n",
       "      <th>bulk_campaign_id</th>\n",
       "      <th>client_id</th>\n",
       "      <th>message_id</th>\n",
       "      <th>event</th>\n",
       "      <th>channel</th>\n",
       "      <th>date</th>\n",
       "      <th>created_at</th>\n",
       "    </tr>\n",
       "  </thead>\n",
       "  <tbody>\n",
       "    <tr>\n",
       "      <th>0</th>\n",
       "      <td>4439</td>\n",
       "      <td>1515915625626736623</td>\n",
       "      <td>1515915625626736623-4439-6283415ac07ea</td>\n",
       "      <td>open</td>\n",
       "      <td>email</td>\n",
       "      <td>2022-05-19</td>\n",
       "      <td>2022-05-19 00:14:20</td>\n",
       "    </tr>\n",
       "    <tr>\n",
       "      <th>1</th>\n",
       "      <td>4439</td>\n",
       "      <td>1515915625490086521</td>\n",
       "      <td>1515915625490086521-4439-62834150016dd</td>\n",
       "      <td>open</td>\n",
       "      <td>email</td>\n",
       "      <td>2022-05-19</td>\n",
       "      <td>2022-05-19 00:39:34</td>\n",
       "    </tr>\n",
       "    <tr>\n",
       "      <th>2</th>\n",
       "      <td>4439</td>\n",
       "      <td>1515915625553578558</td>\n",
       "      <td>1515915625553578558-4439-6283415b36b4f</td>\n",
       "      <td>open</td>\n",
       "      <td>email</td>\n",
       "      <td>2022-05-19</td>\n",
       "      <td>2022-05-19 00:51:49</td>\n",
       "    </tr>\n",
       "    <tr>\n",
       "      <th>3</th>\n",
       "      <td>4439</td>\n",
       "      <td>1515915625553578558</td>\n",
       "      <td>1515915625553578558-4439-6283415b36b4f</td>\n",
       "      <td>click</td>\n",
       "      <td>email</td>\n",
       "      <td>2022-05-19</td>\n",
       "      <td>2022-05-19 00:52:20</td>\n",
       "    </tr>\n",
       "    <tr>\n",
       "      <th>4</th>\n",
       "      <td>4439</td>\n",
       "      <td>1515915625471518311</td>\n",
       "      <td>1515915625471518311-4439-628341570c133</td>\n",
       "      <td>open</td>\n",
       "      <td>email</td>\n",
       "      <td>2022-05-19</td>\n",
       "      <td>2022-05-19 00:56:52</td>\n",
       "    </tr>\n",
       "  </tbody>\n",
       "</table>\n",
       "</div>"
      ],
      "text/plain": [
       "   bulk_campaign_id            client_id  \\\n",
       "0              4439  1515915625626736623   \n",
       "1              4439  1515915625490086521   \n",
       "2              4439  1515915625553578558   \n",
       "3              4439  1515915625553578558   \n",
       "4              4439  1515915625471518311   \n",
       "\n",
       "                               message_id  event channel        date  \\\n",
       "0  1515915625626736623-4439-6283415ac07ea   open   email  2022-05-19   \n",
       "1  1515915625490086521-4439-62834150016dd   open   email  2022-05-19   \n",
       "2  1515915625553578558-4439-6283415b36b4f   open   email  2022-05-19   \n",
       "3  1515915625553578558-4439-6283415b36b4f  click   email  2022-05-19   \n",
       "4  1515915625471518311-4439-628341570c133   open   email  2022-05-19   \n",
       "\n",
       "            created_at  \n",
       "0  2022-05-19 00:14:20  \n",
       "1  2022-05-19 00:39:34  \n",
       "2  2022-05-19 00:51:49  \n",
       "3  2022-05-19 00:52:20  \n",
       "4  2022-05-19 00:56:52  "
      ]
     },
     "execution_count": 1093,
     "metadata": {},
     "output_type": "execute_result"
    }
   ],
   "source": [
    "data_messages = pd.read_csv('C://MyDocs//Data_Scinece_Praktikum//Machine_learning//ML_projects/Skillbox//M2_DS - Clients_for_shop//STD_M2_purchase_in_90_days//filtered_data//apparel-messages.csv', sep=',')\n",
    "data_messages.head()"
   ]
  },
  {
   "cell_type": "markdown",
   "metadata": {
    "id": "eeXSvfEvZLVu"
   },
   "source": [
    "Данные успешно зачитаны."
   ]
  },
  {
   "cell_type": "markdown",
   "metadata": {
    "id": "j0-Xo_P4lPHR"
   },
   "source": [
    "## Файл apparel-purchases\n",
    "Файл содержит данные о покупках клиентов по дням и по товарам. В каждой записи покупка определенного товара, его цена, количество штук.\n",
    "<br> В таблице есть списки идентификаторов, к каким категориям относится товар. Часто это вложенные категории (например автотовары-аксессуары-освежители), но также может включать в начале списка маркер распродажи или маркер женщинам/мужчинам.\n",
    "<br> Нумерация категорий сквозная для всех уровней, то есть 44 на второй позиции списка или на третьей – это одна и та же категория. Иногда дерево категорий обновляется, поэтому могут меняться вложенности, например ['4', '28', '44', '1594'] или ['4', '44', '1594'].\n",
    "* client_id идентификатор пользователя\n",
    "* quantity количество товаров в заказе\n",
    "* price цена товара\n",
    "* category_ids вложенные категории, к которым отнсится товар\n",
    "* date дата покупки\n",
    "* message_id идентификатор сообщения из рассылки"
   ]
  },
  {
   "cell_type": "code",
   "execution_count": 1096,
   "metadata": {
    "colab": {
     "base_uri": "https://localhost:8080/",
     "height": 206
    },
    "id": "vUJQGnHPjiID",
    "outputId": "08539387-9a47-478f-d25b-01e2b155d633"
   },
   "outputs": [
    {
     "data": {
      "text/html": [
       "<div>\n",
       "<style scoped>\n",
       "    .dataframe tbody tr th:only-of-type {\n",
       "        vertical-align: middle;\n",
       "    }\n",
       "\n",
       "    .dataframe tbody tr th {\n",
       "        vertical-align: top;\n",
       "    }\n",
       "\n",
       "    .dataframe thead th {\n",
       "        text-align: right;\n",
       "    }\n",
       "</style>\n",
       "<table border=\"1\" class=\"dataframe\">\n",
       "  <thead>\n",
       "    <tr style=\"text-align: right;\">\n",
       "      <th></th>\n",
       "      <th>client_id</th>\n",
       "      <th>quantity</th>\n",
       "      <th>price</th>\n",
       "      <th>category_ids</th>\n",
       "      <th>date</th>\n",
       "      <th>message_id</th>\n",
       "    </tr>\n",
       "  </thead>\n",
       "  <tbody>\n",
       "    <tr>\n",
       "      <th>0</th>\n",
       "      <td>1515915625468169594</td>\n",
       "      <td>1</td>\n",
       "      <td>1999.0</td>\n",
       "      <td>['4', '28', '57', '431']</td>\n",
       "      <td>2022-05-16</td>\n",
       "      <td>1515915625468169594-4301-627b661e9736d</td>\n",
       "    </tr>\n",
       "    <tr>\n",
       "      <th>1</th>\n",
       "      <td>1515915625468169594</td>\n",
       "      <td>1</td>\n",
       "      <td>2499.0</td>\n",
       "      <td>['4', '28', '57', '431']</td>\n",
       "      <td>2022-05-16</td>\n",
       "      <td>1515915625468169594-4301-627b661e9736d</td>\n",
       "    </tr>\n",
       "    <tr>\n",
       "      <th>2</th>\n",
       "      <td>1515915625471138230</td>\n",
       "      <td>1</td>\n",
       "      <td>6499.0</td>\n",
       "      <td>['4', '28', '57', '431']</td>\n",
       "      <td>2022-05-16</td>\n",
       "      <td>1515915625471138230-4437-6282242f27843</td>\n",
       "    </tr>\n",
       "    <tr>\n",
       "      <th>3</th>\n",
       "      <td>1515915625471138230</td>\n",
       "      <td>1</td>\n",
       "      <td>4999.0</td>\n",
       "      <td>['4', '28', '244', '432']</td>\n",
       "      <td>2022-05-16</td>\n",
       "      <td>1515915625471138230-4437-6282242f27843</td>\n",
       "    </tr>\n",
       "    <tr>\n",
       "      <th>4</th>\n",
       "      <td>1515915625471138230</td>\n",
       "      <td>1</td>\n",
       "      <td>4999.0</td>\n",
       "      <td>['4', '28', '49', '413']</td>\n",
       "      <td>2022-05-16</td>\n",
       "      <td>1515915625471138230-4437-6282242f27843</td>\n",
       "    </tr>\n",
       "  </tbody>\n",
       "</table>\n",
       "</div>"
      ],
      "text/plain": [
       "             client_id  quantity   price               category_ids  \\\n",
       "0  1515915625468169594         1  1999.0   ['4', '28', '57', '431']   \n",
       "1  1515915625468169594         1  2499.0   ['4', '28', '57', '431']   \n",
       "2  1515915625471138230         1  6499.0   ['4', '28', '57', '431']   \n",
       "3  1515915625471138230         1  4999.0  ['4', '28', '244', '432']   \n",
       "4  1515915625471138230         1  4999.0   ['4', '28', '49', '413']   \n",
       "\n",
       "         date                              message_id  \n",
       "0  2022-05-16  1515915625468169594-4301-627b661e9736d  \n",
       "1  2022-05-16  1515915625468169594-4301-627b661e9736d  \n",
       "2  2022-05-16  1515915625471138230-4437-6282242f27843  \n",
       "3  2022-05-16  1515915625471138230-4437-6282242f27843  \n",
       "4  2022-05-16  1515915625471138230-4437-6282242f27843  "
      ]
     },
     "execution_count": 1096,
     "metadata": {},
     "output_type": "execute_result"
    }
   ],
   "source": [
    "data_purchases = pd.read_csv('C://MyDocs//Data_Scinece_Praktikum//Machine_learning//ML_projects/Skillbox//M2_DS - Clients_for_shop//STD_M2_purchase_in_90_days//filtered_data//apparel-purchases.csv', sep=',')\n",
    "data_purchases.head()"
   ]
  },
  {
   "cell_type": "markdown",
   "metadata": {
    "id": "ZGZdCoIoZTEu"
   },
   "source": [
    "Данные успешно зачитаны."
   ]
  },
  {
   "cell_type": "markdown",
   "metadata": {
    "id": "0jdknRQ9nSX1"
   },
   "source": [
    "## Файл apparel-target_binary\n",
    "Данные о том, совершит ли клиент покупку в течение следующих 90 дней:\n",
    "* client_id - идентификатор пользователя\n",
    "* target - целевой признак"
   ]
  },
  {
   "cell_type": "code",
   "execution_count": 1099,
   "metadata": {
    "colab": {
     "base_uri": "https://localhost:8080/",
     "height": 206
    },
    "id": "23q4JLL4nxMn",
    "outputId": "16e0c6e8-1671-41aa-b4ce-f86ba25b632c"
   },
   "outputs": [
    {
     "data": {
      "text/html": [
       "<div>\n",
       "<style scoped>\n",
       "    .dataframe tbody tr th:only-of-type {\n",
       "        vertical-align: middle;\n",
       "    }\n",
       "\n",
       "    .dataframe tbody tr th {\n",
       "        vertical-align: top;\n",
       "    }\n",
       "\n",
       "    .dataframe thead th {\n",
       "        text-align: right;\n",
       "    }\n",
       "</style>\n",
       "<table border=\"1\" class=\"dataframe\">\n",
       "  <thead>\n",
       "    <tr style=\"text-align: right;\">\n",
       "      <th></th>\n",
       "      <th>client_id</th>\n",
       "      <th>target</th>\n",
       "    </tr>\n",
       "  </thead>\n",
       "  <tbody>\n",
       "    <tr>\n",
       "      <th>0</th>\n",
       "      <td>1515915625468060902</td>\n",
       "      <td>0</td>\n",
       "    </tr>\n",
       "    <tr>\n",
       "      <th>1</th>\n",
       "      <td>1515915625468061003</td>\n",
       "      <td>1</td>\n",
       "    </tr>\n",
       "    <tr>\n",
       "      <th>2</th>\n",
       "      <td>1515915625468061099</td>\n",
       "      <td>0</td>\n",
       "    </tr>\n",
       "    <tr>\n",
       "      <th>3</th>\n",
       "      <td>1515915625468061100</td>\n",
       "      <td>0</td>\n",
       "    </tr>\n",
       "    <tr>\n",
       "      <th>4</th>\n",
       "      <td>1515915625468061170</td>\n",
       "      <td>0</td>\n",
       "    </tr>\n",
       "  </tbody>\n",
       "</table>\n",
       "</div>"
      ],
      "text/plain": [
       "             client_id  target\n",
       "0  1515915625468060902       0\n",
       "1  1515915625468061003       1\n",
       "2  1515915625468061099       0\n",
       "3  1515915625468061100       0\n",
       "4  1515915625468061170       0"
      ]
     },
     "execution_count": 1099,
     "metadata": {},
     "output_type": "execute_result"
    }
   ],
   "source": [
    "data_target = pd.read_csv('C://MyDocs//Data_Scinece_Praktikum//Machine_learning//ML_projects/Skillbox//M2_DS - Clients_for_shop//STD_M2_purchase_in_90_days//filtered_data//apparel-target_binary.csv', sep=',')\n",
    "data_target.head()"
   ]
  },
  {
   "cell_type": "markdown",
   "metadata": {
    "id": "9-e2HFOpZWQO"
   },
   "source": [
    "Данные успешно зачитаны"
   ]
  },
  {
   "cell_type": "markdown",
   "metadata": {
    "id": "5yTpaH2lV6fN"
   },
   "source": [
    "# Предобработка данных"
   ]
  },
  {
   "cell_type": "markdown",
   "metadata": {
    "id": "RX1eYYLfa46W"
   },
   "source": [
    "Начну предобработку данных с таблицы с целевым признаком."
   ]
  },
  {
   "cell_type": "markdown",
   "metadata": {
    "id": "ucXXpv4SHv9R"
   },
   "source": [
    "## Анализ таблицы с целевым признаком"
   ]
  },
  {
   "cell_type": "code",
   "execution_count": 1104,
   "metadata": {
    "colab": {
     "base_uri": "https://localhost:8080/"
    },
    "id": "8VSCqko-bDEK",
    "outputId": "03302d57-74b4-46e2-fddc-de4b2c67d1b9"
   },
   "outputs": [
    {
     "name": "stdout",
     "output_type": "stream",
     "text": [
      "<class 'pandas.core.frame.DataFrame'>\n",
      "RangeIndex: 49849 entries, 0 to 49848\n",
      "Data columns (total 2 columns):\n",
      " #   Column     Non-Null Count  Dtype\n",
      "---  ------     --------------  -----\n",
      " 0   client_id  49849 non-null  int64\n",
      " 1   target     49849 non-null  int64\n",
      "dtypes: int64(2)\n",
      "memory usage: 779.0 KB\n"
     ]
    }
   ],
   "source": [
    "data_target.info()"
   ]
  },
  {
   "cell_type": "markdown",
   "metadata": {
    "id": "gORuZ4NAcbuZ"
   },
   "source": [
    "Типы данных соответствуют."
   ]
  },
  {
   "cell_type": "markdown",
   "metadata": {
    "id": "xxGwgeFqbO0A"
   },
   "source": [
    "Убеждаюсь, что пропусков нет."
   ]
  },
  {
   "cell_type": "code",
   "execution_count": 1107,
   "metadata": {
    "colab": {
     "base_uri": "https://localhost:8080/",
     "height": 147
    },
    "id": "khIO4qo-bIpm",
    "outputId": "d1c94215-614d-4410-c878-2a9d9ef93562"
   },
   "outputs": [
    {
     "data": {
      "text/plain": [
       "client_id    0\n",
       "target       0\n",
       "dtype: int64"
      ]
     },
     "execution_count": 1107,
     "metadata": {},
     "output_type": "execute_result"
    }
   ],
   "source": [
    "data_target.isna().sum()"
   ]
  },
  {
   "cell_type": "markdown",
   "metadata": {
    "id": "SatbLZlFHSJf"
   },
   "source": [
    "Проверяю уникальные значения целевого признака, чтобы убедиться в том, что все в порядке."
   ]
  },
  {
   "cell_type": "code",
   "execution_count": 1109,
   "metadata": {
    "colab": {
     "base_uri": "https://localhost:8080/"
    },
    "id": "5cSgaDLTciDb",
    "outputId": "db7c43bc-689d-487e-b278-7ddb44e2ba0e"
   },
   "outputs": [
    {
     "data": {
      "text/plain": [
       "array([0, 1], dtype=int64)"
      ]
     },
     "execution_count": 1109,
     "metadata": {},
     "output_type": "execute_result"
    }
   ],
   "source": [
    "data_target['target'].unique()"
   ]
  },
  {
   "cell_type": "markdown",
   "metadata": {
    "id": "Fqmcjv77Uf2b"
   },
   "source": [
    "Смотрю количество значений таргета на предмет дисбаланса классов:"
   ]
  },
  {
   "cell_type": "code",
   "execution_count": 1111,
   "metadata": {
    "colab": {
     "base_uri": "https://localhost:8080/",
     "height": 178
    },
    "id": "a_-XQD7KUWcQ",
    "outputId": "b38234fd-1649-4a35-8c4c-eb8e2680be89"
   },
   "outputs": [
    {
     "data": {
      "text/plain": [
       "target\n",
       "0    48888\n",
       "1      961\n",
       "Name: count, dtype: int64"
      ]
     },
     "execution_count": 1111,
     "metadata": {},
     "output_type": "execute_result"
    }
   ],
   "source": [
    "data_target['target'].value_counts()"
   ]
  },
  {
   "cell_type": "markdown",
   "metadata": {
    "id": "XPD2Dpe8Uq1o"
   },
   "source": [
    "Как видно, совершивших покупку клиентов значительно меньше, чем тех, кто покупку не совершил. Следовательно нужно делать стратификацию при формировании обучающей выборки."
   ]
  },
  {
   "cell_type": "markdown",
   "metadata": {
    "id": "QCg0tZ7MIECd"
   },
   "source": [
    "Проверка на явные дубликаты"
   ]
  },
  {
   "cell_type": "code",
   "execution_count": 1114,
   "metadata": {
    "colab": {
     "base_uri": "https://localhost:8080/"
    },
    "id": "kgtb1jCUH9GF",
    "outputId": "91cb4540-0d2c-4831-8535-e3b532c09377"
   },
   "outputs": [
    {
     "data": {
      "text/plain": [
       "0"
      ]
     },
     "execution_count": 1114,
     "metadata": {},
     "output_type": "execute_result"
    }
   ],
   "source": [
    "data_target.duplicated().sum()"
   ]
  },
  {
   "cell_type": "markdown",
   "metadata": {
    "id": "Xb0Dv6gpRDrm"
   },
   "source": [
    "Явных дубликатов нет. Данные готовы к дальнейшему использованию."
   ]
  },
  {
   "cell_type": "markdown",
   "metadata": {
    "id": "Ll9TRvT3JEuj"
   },
   "source": [
    "## Анализ данных датасета data_messages"
   ]
  },
  {
   "cell_type": "code",
   "execution_count": 1117,
   "metadata": {
    "colab": {
     "base_uri": "https://localhost:8080/"
    },
    "id": "Jtxdege5U_vu",
    "outputId": "3ac01a49-aaaa-4d04-9060-1f6245ebc44b"
   },
   "outputs": [
    {
     "name": "stdout",
     "output_type": "stream",
     "text": [
      "<class 'pandas.core.frame.DataFrame'>\n",
      "RangeIndex: 12739798 entries, 0 to 12739797\n",
      "Data columns (total 7 columns):\n",
      " #   Column            Dtype \n",
      "---  ------            ----- \n",
      " 0   bulk_campaign_id  int64 \n",
      " 1   client_id         int64 \n",
      " 2   message_id        object\n",
      " 3   event             object\n",
      " 4   channel           object\n",
      " 5   date              object\n",
      " 6   created_at        object\n",
      "dtypes: int64(2), object(5)\n",
      "memory usage: 680.4+ MB\n"
     ]
    }
   ],
   "source": [
    "data_messages.info()"
   ]
  },
  {
   "cell_type": "markdown",
   "metadata": {
    "id": "YJEDU8AhcJ9A"
   },
   "source": [
    "Преобразю данные даты и времени в соответствующий тип datetime:"
   ]
  },
  {
   "cell_type": "code",
   "execution_count": 1119,
   "metadata": {
    "colab": {
     "base_uri": "https://localhost:8080/"
    },
    "id": "4-Fl80DZcW_l",
    "outputId": "d9647d8e-1df0-4d20-a558-145d3063afa5"
   },
   "outputs": [
    {
     "name": "stdout",
     "output_type": "stream",
     "text": [
      "<class 'pandas.core.frame.DataFrame'>\n",
      "RangeIndex: 12739798 entries, 0 to 12739797\n",
      "Data columns (total 7 columns):\n",
      " #   Column            Dtype         \n",
      "---  ------            -----         \n",
      " 0   bulk_campaign_id  int64         \n",
      " 1   client_id         int64         \n",
      " 2   message_id        object        \n",
      " 3   event             object        \n",
      " 4   channel           object        \n",
      " 5   date              datetime64[ns]\n",
      " 6   created_at        datetime64[ns]\n",
      "dtypes: datetime64[ns](2), int64(2), object(3)\n",
      "memory usage: 680.4+ MB\n"
     ]
    }
   ],
   "source": [
    "data_messages['date'] = pd.to_datetime(data_messages['date'], format='%Y-%m-%d')\n",
    "data_messages['created_at'] = pd.to_datetime(data_messages['created_at'], format='%Y-%m-%d %H:%M:%S')\n",
    "data_messages.info()"
   ]
  },
  {
   "cell_type": "code",
   "execution_count": 1120,
   "metadata": {
    "colab": {
     "base_uri": "https://localhost:8080/",
     "height": 206
    },
    "id": "pbUSmPfvePhb",
    "outputId": "8f25a3ae-4174-484a-a0cd-9f4367c48291"
   },
   "outputs": [
    {
     "data": {
      "text/html": [
       "<div>\n",
       "<style scoped>\n",
       "    .dataframe tbody tr th:only-of-type {\n",
       "        vertical-align: middle;\n",
       "    }\n",
       "\n",
       "    .dataframe tbody tr th {\n",
       "        vertical-align: top;\n",
       "    }\n",
       "\n",
       "    .dataframe thead th {\n",
       "        text-align: right;\n",
       "    }\n",
       "</style>\n",
       "<table border=\"1\" class=\"dataframe\">\n",
       "  <thead>\n",
       "    <tr style=\"text-align: right;\">\n",
       "      <th></th>\n",
       "      <th>bulk_campaign_id</th>\n",
       "      <th>client_id</th>\n",
       "      <th>message_id</th>\n",
       "      <th>event</th>\n",
       "      <th>channel</th>\n",
       "      <th>date</th>\n",
       "      <th>created_at</th>\n",
       "    </tr>\n",
       "  </thead>\n",
       "  <tbody>\n",
       "    <tr>\n",
       "      <th>0</th>\n",
       "      <td>4439</td>\n",
       "      <td>1515915625626736623</td>\n",
       "      <td>1515915625626736623-4439-6283415ac07ea</td>\n",
       "      <td>open</td>\n",
       "      <td>email</td>\n",
       "      <td>2022-05-19</td>\n",
       "      <td>2022-05-19 00:14:20</td>\n",
       "    </tr>\n",
       "    <tr>\n",
       "      <th>1</th>\n",
       "      <td>4439</td>\n",
       "      <td>1515915625490086521</td>\n",
       "      <td>1515915625490086521-4439-62834150016dd</td>\n",
       "      <td>open</td>\n",
       "      <td>email</td>\n",
       "      <td>2022-05-19</td>\n",
       "      <td>2022-05-19 00:39:34</td>\n",
       "    </tr>\n",
       "    <tr>\n",
       "      <th>2</th>\n",
       "      <td>4439</td>\n",
       "      <td>1515915625553578558</td>\n",
       "      <td>1515915625553578558-4439-6283415b36b4f</td>\n",
       "      <td>open</td>\n",
       "      <td>email</td>\n",
       "      <td>2022-05-19</td>\n",
       "      <td>2022-05-19 00:51:49</td>\n",
       "    </tr>\n",
       "    <tr>\n",
       "      <th>3</th>\n",
       "      <td>4439</td>\n",
       "      <td>1515915625553578558</td>\n",
       "      <td>1515915625553578558-4439-6283415b36b4f</td>\n",
       "      <td>click</td>\n",
       "      <td>email</td>\n",
       "      <td>2022-05-19</td>\n",
       "      <td>2022-05-19 00:52:20</td>\n",
       "    </tr>\n",
       "    <tr>\n",
       "      <th>4</th>\n",
       "      <td>4439</td>\n",
       "      <td>1515915625471518311</td>\n",
       "      <td>1515915625471518311-4439-628341570c133</td>\n",
       "      <td>open</td>\n",
       "      <td>email</td>\n",
       "      <td>2022-05-19</td>\n",
       "      <td>2022-05-19 00:56:52</td>\n",
       "    </tr>\n",
       "  </tbody>\n",
       "</table>\n",
       "</div>"
      ],
      "text/plain": [
       "   bulk_campaign_id            client_id  \\\n",
       "0              4439  1515915625626736623   \n",
       "1              4439  1515915625490086521   \n",
       "2              4439  1515915625553578558   \n",
       "3              4439  1515915625553578558   \n",
       "4              4439  1515915625471518311   \n",
       "\n",
       "                               message_id  event channel       date  \\\n",
       "0  1515915625626736623-4439-6283415ac07ea   open   email 2022-05-19   \n",
       "1  1515915625490086521-4439-62834150016dd   open   email 2022-05-19   \n",
       "2  1515915625553578558-4439-6283415b36b4f   open   email 2022-05-19   \n",
       "3  1515915625553578558-4439-6283415b36b4f  click   email 2022-05-19   \n",
       "4  1515915625471518311-4439-628341570c133   open   email 2022-05-19   \n",
       "\n",
       "           created_at  \n",
       "0 2022-05-19 00:14:20  \n",
       "1 2022-05-19 00:39:34  \n",
       "2 2022-05-19 00:51:49  \n",
       "3 2022-05-19 00:52:20  \n",
       "4 2022-05-19 00:56:52  "
      ]
     },
     "execution_count": 1120,
     "metadata": {},
     "output_type": "execute_result"
    }
   ],
   "source": [
    "data_messages.head(5)"
   ]
  },
  {
   "cell_type": "markdown",
   "metadata": {
    "id": "o55-H2uFNc7Z"
   },
   "source": [
    "Проверяю данные на пропуски"
   ]
  },
  {
   "cell_type": "code",
   "execution_count": 1122,
   "metadata": {
    "colab": {
     "base_uri": "https://localhost:8080/",
     "height": 303
    },
    "id": "mZsZCzaENZYy",
    "outputId": "e8faee8d-f97f-4901-f9f3-79ced7aeafd2"
   },
   "outputs": [
    {
     "data": {
      "text/plain": [
       "bulk_campaign_id    0\n",
       "client_id           0\n",
       "message_id          0\n",
       "event               0\n",
       "channel             0\n",
       "date                0\n",
       "created_at          0\n",
       "dtype: int64"
      ]
     },
     "execution_count": 1122,
     "metadata": {},
     "output_type": "execute_result"
    }
   ],
   "source": [
    "data_messages.isna().sum()"
   ]
  },
  {
   "cell_type": "markdown",
   "metadata": {
    "id": "ys1jvMCaOgto"
   },
   "source": [
    "Проверка данных на явные дубликаты"
   ]
  },
  {
   "cell_type": "code",
   "execution_count": 1124,
   "metadata": {
    "colab": {
     "base_uri": "https://localhost:8080/"
    },
    "id": "0qoVn7NXNoej",
    "outputId": "b85aa486-11e4-40e9-90df-f77c427ed800"
   },
   "outputs": [
    {
     "data": {
      "text/plain": [
       "48610"
      ]
     },
     "execution_count": 1124,
     "metadata": {},
     "output_type": "execute_result"
    }
   ],
   "source": [
    "data_messages.duplicated().sum()"
   ]
  },
  {
   "cell_type": "markdown",
   "metadata": {
    "id": "wAE3ZkDfOtUK"
   },
   "source": [
    "В данных обнаружены явные дубликаты. Каждая строчка содержит дату с минутами и секундами, поэтому такая запись уникальна. Следовательно обнаруженные дубликаты подлежат удалению."
   ]
  },
  {
   "cell_type": "code",
   "execution_count": 1126,
   "metadata": {
    "id": "Ws9huF-MPYYu"
   },
   "outputs": [],
   "source": [
    "data_messages = data_messages.drop_duplicates().reset_index(drop=True)"
   ]
  },
  {
   "cell_type": "markdown",
   "metadata": {
    "id": "6UZiu3jcQwLX"
   },
   "source": [
    "Проверяю, что явные дубликаты убраны:"
   ]
  },
  {
   "cell_type": "code",
   "execution_count": 1128,
   "metadata": {
    "colab": {
     "base_uri": "https://localhost:8080/"
    },
    "id": "J8vpqoOayXiZ",
    "outputId": "9294881a-6a62-4bef-bc5e-0692f8774e92"
   },
   "outputs": [
    {
     "data": {
      "text/plain": [
       "0"
      ]
     },
     "execution_count": 1128,
     "metadata": {},
     "output_type": "execute_result"
    }
   ],
   "source": [
    "data_messages.duplicated().sum()"
   ]
  },
  {
   "cell_type": "markdown",
   "metadata": {
    "id": "jVnspt0RoYxC"
   },
   "source": [
    "Проверю, все ли client id датафрейма совпадают с данными с таргетом:"
   ]
  },
  {
   "cell_type": "markdown",
   "metadata": {
    "id": "7Ew9tjqbXEDe"
   },
   "source": [
    "## Анализ данных датасета data_purchases"
   ]
  },
  {
   "cell_type": "code",
   "execution_count": 1131,
   "metadata": {
    "colab": {
     "base_uri": "https://localhost:8080/"
    },
    "id": "dEZxXe7vXCBt",
    "outputId": "87252cce-0512-4eb1-b508-770bec4a2624"
   },
   "outputs": [
    {
     "name": "stdout",
     "output_type": "stream",
     "text": [
      "<class 'pandas.core.frame.DataFrame'>\n",
      "RangeIndex: 202208 entries, 0 to 202207\n",
      "Data columns (total 6 columns):\n",
      " #   Column        Non-Null Count   Dtype  \n",
      "---  ------        --------------   -----  \n",
      " 0   client_id     202208 non-null  int64  \n",
      " 1   quantity      202208 non-null  int64  \n",
      " 2   price         202208 non-null  float64\n",
      " 3   category_ids  202208 non-null  object \n",
      " 4   date          202208 non-null  object \n",
      " 5   message_id    202208 non-null  object \n",
      "dtypes: float64(1), int64(2), object(3)\n",
      "memory usage: 9.3+ MB\n"
     ]
    }
   ],
   "source": [
    "data_purchases.info()"
   ]
  },
  {
   "cell_type": "code",
   "execution_count": 1132,
   "metadata": {
    "colab": {
     "base_uri": "https://localhost:8080/"
    },
    "id": "9NDk6bP7efCG",
    "outputId": "7c57e1b3-e9e4-4ae5-b100-39348e2a96bc"
   },
   "outputs": [
    {
     "name": "stdout",
     "output_type": "stream",
     "text": [
      "<class 'pandas.core.frame.DataFrame'>\n",
      "RangeIndex: 202208 entries, 0 to 202207\n",
      "Data columns (total 6 columns):\n",
      " #   Column        Non-Null Count   Dtype         \n",
      "---  ------        --------------   -----         \n",
      " 0   client_id     202208 non-null  int64         \n",
      " 1   quantity      202208 non-null  int64         \n",
      " 2   price         202208 non-null  float64       \n",
      " 3   category_ids  202208 non-null  object        \n",
      " 4   date          202208 non-null  datetime64[ns]\n",
      " 5   message_id    202208 non-null  object        \n",
      "dtypes: datetime64[ns](1), float64(1), int64(2), object(2)\n",
      "memory usage: 9.3+ MB\n"
     ]
    }
   ],
   "source": [
    "data_purchases['date'] = pd.to_datetime(data_purchases['date'], format='%Y-%m-%d')\n",
    "data_purchases.info()"
   ]
  },
  {
   "cell_type": "code",
   "execution_count": 1133,
   "metadata": {
    "colab": {
     "base_uri": "https://localhost:8080/",
     "height": 206
    },
    "id": "Ngpb5z28erxL",
    "outputId": "6762acb1-375c-4119-b400-43d7aa7d21b2"
   },
   "outputs": [
    {
     "data": {
      "text/html": [
       "<div>\n",
       "<style scoped>\n",
       "    .dataframe tbody tr th:only-of-type {\n",
       "        vertical-align: middle;\n",
       "    }\n",
       "\n",
       "    .dataframe tbody tr th {\n",
       "        vertical-align: top;\n",
       "    }\n",
       "\n",
       "    .dataframe thead th {\n",
       "        text-align: right;\n",
       "    }\n",
       "</style>\n",
       "<table border=\"1\" class=\"dataframe\">\n",
       "  <thead>\n",
       "    <tr style=\"text-align: right;\">\n",
       "      <th></th>\n",
       "      <th>client_id</th>\n",
       "      <th>quantity</th>\n",
       "      <th>price</th>\n",
       "      <th>category_ids</th>\n",
       "      <th>date</th>\n",
       "      <th>message_id</th>\n",
       "    </tr>\n",
       "  </thead>\n",
       "  <tbody>\n",
       "    <tr>\n",
       "      <th>0</th>\n",
       "      <td>1515915625468169594</td>\n",
       "      <td>1</td>\n",
       "      <td>1999.0</td>\n",
       "      <td>['4', '28', '57', '431']</td>\n",
       "      <td>2022-05-16</td>\n",
       "      <td>1515915625468169594-4301-627b661e9736d</td>\n",
       "    </tr>\n",
       "    <tr>\n",
       "      <th>1</th>\n",
       "      <td>1515915625468169594</td>\n",
       "      <td>1</td>\n",
       "      <td>2499.0</td>\n",
       "      <td>['4', '28', '57', '431']</td>\n",
       "      <td>2022-05-16</td>\n",
       "      <td>1515915625468169594-4301-627b661e9736d</td>\n",
       "    </tr>\n",
       "    <tr>\n",
       "      <th>2</th>\n",
       "      <td>1515915625471138230</td>\n",
       "      <td>1</td>\n",
       "      <td>6499.0</td>\n",
       "      <td>['4', '28', '57', '431']</td>\n",
       "      <td>2022-05-16</td>\n",
       "      <td>1515915625471138230-4437-6282242f27843</td>\n",
       "    </tr>\n",
       "    <tr>\n",
       "      <th>3</th>\n",
       "      <td>1515915625471138230</td>\n",
       "      <td>1</td>\n",
       "      <td>4999.0</td>\n",
       "      <td>['4', '28', '244', '432']</td>\n",
       "      <td>2022-05-16</td>\n",
       "      <td>1515915625471138230-4437-6282242f27843</td>\n",
       "    </tr>\n",
       "    <tr>\n",
       "      <th>4</th>\n",
       "      <td>1515915625471138230</td>\n",
       "      <td>1</td>\n",
       "      <td>4999.0</td>\n",
       "      <td>['4', '28', '49', '413']</td>\n",
       "      <td>2022-05-16</td>\n",
       "      <td>1515915625471138230-4437-6282242f27843</td>\n",
       "    </tr>\n",
       "  </tbody>\n",
       "</table>\n",
       "</div>"
      ],
      "text/plain": [
       "             client_id  quantity   price               category_ids  \\\n",
       "0  1515915625468169594         1  1999.0   ['4', '28', '57', '431']   \n",
       "1  1515915625468169594         1  2499.0   ['4', '28', '57', '431']   \n",
       "2  1515915625471138230         1  6499.0   ['4', '28', '57', '431']   \n",
       "3  1515915625471138230         1  4999.0  ['4', '28', '244', '432']   \n",
       "4  1515915625471138230         1  4999.0   ['4', '28', '49', '413']   \n",
       "\n",
       "        date                              message_id  \n",
       "0 2022-05-16  1515915625468169594-4301-627b661e9736d  \n",
       "1 2022-05-16  1515915625468169594-4301-627b661e9736d  \n",
       "2 2022-05-16  1515915625471138230-4437-6282242f27843  \n",
       "3 2022-05-16  1515915625471138230-4437-6282242f27843  \n",
       "4 2022-05-16  1515915625471138230-4437-6282242f27843  "
      ]
     },
     "execution_count": 1133,
     "metadata": {},
     "output_type": "execute_result"
    }
   ],
   "source": [
    "data_purchases.head(5)"
   ]
  },
  {
   "cell_type": "code",
   "execution_count": 1134,
   "metadata": {
    "colab": {
     "base_uri": "https://localhost:8080/",
     "height": 303
    },
    "id": "YCp-dq2zlbT3",
    "outputId": "24900940-5acd-4701-985f-1ede7335305e"
   },
   "outputs": [
    {
     "data": {
      "text/plain": [
       "count                           202208\n",
       "mean     2023-03-17 02:49:35.739832064\n",
       "min                2022-05-16 00:00:00\n",
       "25%                2022-11-12 00:00:00\n",
       "50%                2023-04-12 00:00:00\n",
       "75%                2023-07-03 00:00:00\n",
       "max                2024-02-16 00:00:00\n",
       "Name: date, dtype: object"
      ]
     },
     "execution_count": 1134,
     "metadata": {},
     "output_type": "execute_result"
    }
   ],
   "source": [
    "data_purchases['date'].describe()"
   ]
  },
  {
   "cell_type": "markdown",
   "metadata": {
    "id": "GmgPiRj1XpXQ"
   },
   "source": [
    "Проверяю данные на пропуски."
   ]
  },
  {
   "cell_type": "code",
   "execution_count": 1136,
   "metadata": {
    "colab": {
     "base_uri": "https://localhost:8080/",
     "height": 272
    },
    "id": "tN7F_TS8XfDS",
    "outputId": "39c422d1-bd62-4ad1-ab01-4a4124ba7d2b"
   },
   "outputs": [
    {
     "data": {
      "text/plain": [
       "client_id       0\n",
       "quantity        0\n",
       "price           0\n",
       "category_ids    0\n",
       "date            0\n",
       "message_id      0\n",
       "dtype: int64"
      ]
     },
     "execution_count": 1136,
     "metadata": {},
     "output_type": "execute_result"
    }
   ],
   "source": [
    "data_purchases.isna().sum()"
   ]
  },
  {
   "cell_type": "code",
   "execution_count": 1137,
   "metadata": {
    "colab": {
     "base_uri": "https://localhost:8080/"
    },
    "id": "PgCJWAhaYpCO",
    "outputId": "572bb882-2263-4dbc-d4da-f7ba58d49562"
   },
   "outputs": [
    {
     "data": {
      "text/plain": [
       "73020"
      ]
     },
     "execution_count": 1137,
     "metadata": {},
     "output_type": "execute_result"
    }
   ],
   "source": [
    "data_purchases.duplicated().sum()"
   ]
  },
  {
   "cell_type": "markdown",
   "metadata": {
    "id": "2CJKU9i0C-VV"
   },
   "source": [
    "Формально явные дубликаты имеются, однако фактически несколько позиций купленного товара идут отдельными записями и не считаются как явные дубликаты, поэтому будут сохранены."
   ]
  },
  {
   "cell_type": "markdown",
   "metadata": {
    "id": "LEIB6aiHIxxM"
   },
   "source": [
    "Определяю количество уникальных client_id"
   ]
  },
  {
   "cell_type": "code",
   "execution_count": 1140,
   "metadata": {
    "colab": {
     "base_uri": "https://localhost:8080/"
    },
    "id": "GHZanmKEIiB_",
    "outputId": "c416f98d-9f9d-4869-f521-9850b1445cda"
   },
   "outputs": [
    {
     "data": {
      "text/plain": [
       "49849"
      ]
     },
     "execution_count": 1140,
     "metadata": {},
     "output_type": "execute_result"
    }
   ],
   "source": [
    "len(data_purchases['client_id'].unique())"
   ]
  },
  {
   "cell_type": "markdown",
   "metadata": {
    "id": "ryxG8_66iRtZ"
   },
   "source": [
    "Количество уникальных client_id совпадает количеством строк датафрейма data_target. Сделаю проверку на соответствие client_id:"
   ]
  },
  {
   "cell_type": "code",
   "execution_count": 1142,
   "metadata": {
    "id": "_Hkiheq7wQ_Q"
   },
   "outputs": [],
   "source": [
    "for elm in data_purchases['client_id'].unique():\n",
    "    if elm not in data_target['client_id'].unique():\n",
    "        print('Клиент с client_id', elm, 'не найден в data_target')"
   ]
  },
  {
   "cell_type": "markdown",
   "metadata": {
    "id": "gzdPWrkcyOy5"
   },
   "source": [
    "Отсутствие сообщений подтвердило полное соответствие client_id двух датафреймов."
   ]
  },
  {
   "cell_type": "markdown",
   "metadata": {
    "id": "LrFMns3xRNx6"
   },
   "source": [
    "# Исследовательский анализ данных"
   ]
  },
  {
   "cell_type": "markdown",
   "metadata": {
    "id": "xkJmRBmaiiAS"
   },
   "source": [
    "## Исследую данные из таблицы data_purchase"
   ]
  },
  {
   "cell_type": "code",
   "execution_count": 1146,
   "metadata": {
    "colab": {
     "base_uri": "https://localhost:8080/",
     "height": 335
    },
    "id": "oms_NABEix3R",
    "outputId": "5e618294-2083-40e0-f784-648915f97278"
   },
   "outputs": [
    {
     "data": {
      "text/plain": [
       "count    202208.000000\n",
       "mean       1193.301516\n",
       "std        1342.252664\n",
       "min           1.000000\n",
       "25%         352.000000\n",
       "50%         987.000000\n",
       "75%        1699.000000\n",
       "max       85499.000000\n",
       "Name: price, dtype: float64"
      ]
     },
     "execution_count": 1146,
     "metadata": {},
     "output_type": "execute_result"
    }
   ],
   "source": [
    "data_purchases['price'].describe()"
   ]
  },
  {
   "cell_type": "markdown",
   "metadata": {
    "id": "VCACcUr4uQEo"
   },
   "source": [
    "Минимальное значение цены 1 евро, максимальное значение цены одной покупки 85499 евро, что весьма значительно, поскольку третий квантиль составляет 1699 евро. Это либо выброс из-за ошибки в данных, либо это очень дорогая брендовая вещь.\n",
    "<br> Построю гистограмму для визуализации:"
   ]
  },
  {
   "cell_type": "code",
   "execution_count": 1148,
   "metadata": {
    "colab": {
     "base_uri": "https://localhost:8080/",
     "height": 467
    },
    "id": "nf7MloFWRjWu",
    "outputId": "3dc3aa7f-9fb2-4686-bb10-ed1c15d0a628"
   },
   "outputs": [
    {
     "data": {
      "image/png": "[encoded data removed]",
      "text/plain": [
       "<Figure size 500x500 with 1 Axes>"
      ]
     },
     "metadata": {},
     "output_type": "display_data"
    }
   ],
   "source": [
    "data_purchases['price'].hist(\n",
    "    bins=100,\n",
    "    figsize=[5, 5],\n",
    "    color='green')\n",
    "plt.title('Гистограмма распределения признака price')\n",
    "plt.show();"
   ]
  },
  {
   "cell_type": "markdown",
   "metadata": {
    "id": "nWRg5yXIc4us"
   },
   "source": [
    "Как видно, большая часть товаров идет по цене до 10000 евро, остальное - брендовые вещи."
   ]
  },
  {
   "cell_type": "markdown",
   "metadata": {
    "id": "bUGphixlUaay"
   },
   "source": [
    "Для понимания выведу строку датаферйма с максимальным значением:"
   ]
  },
  {
   "cell_type": "code",
   "execution_count": 1151,
   "metadata": {
    "colab": {
     "base_uri": "https://localhost:8080/",
     "height": 81
    },
    "id": "s9nnRDsSUsTy",
    "outputId": "45a644ba-c42a-453f-a2bf-1563938d5fb1"
   },
   "outputs": [
    {
     "data": {
      "text/html": [
       "<div>\n",
       "<style scoped>\n",
       "    .dataframe tbody tr th:only-of-type {\n",
       "        vertical-align: middle;\n",
       "    }\n",
       "\n",
       "    .dataframe tbody tr th {\n",
       "        vertical-align: top;\n",
       "    }\n",
       "\n",
       "    .dataframe thead th {\n",
       "        text-align: right;\n",
       "    }\n",
       "</style>\n",
       "<table border=\"1\" class=\"dataframe\">\n",
       "  <thead>\n",
       "    <tr style=\"text-align: right;\">\n",
       "      <th></th>\n",
       "      <th>client_id</th>\n",
       "      <th>quantity</th>\n",
       "      <th>price</th>\n",
       "      <th>category_ids</th>\n",
       "      <th>date</th>\n",
       "      <th>message_id</th>\n",
       "    </tr>\n",
       "  </thead>\n",
       "  <tbody>\n",
       "    <tr>\n",
       "      <th>186736</th>\n",
       "      <td>1515915625553309277</td>\n",
       "      <td>1</td>\n",
       "      <td>85499.0</td>\n",
       "      <td>['4', '29', '313', '1574']</td>\n",
       "      <td>2023-12-24</td>\n",
       "      <td>1515915625553309277-14352-6585585d7a711</td>\n",
       "    </tr>\n",
       "  </tbody>\n",
       "</table>\n",
       "</div>"
      ],
      "text/plain": [
       "                  client_id  quantity    price                category_ids  \\\n",
       "186736  1515915625553309277         1  85499.0  ['4', '29', '313', '1574']   \n",
       "\n",
       "             date                               message_id  \n",
       "186736 2023-12-24  1515915625553309277-14352-6585585d7a711  "
      ]
     },
     "execution_count": 1151,
     "metadata": {},
     "output_type": "execute_result"
    }
   ],
   "source": [
    "cond = data_purchases['price'] == data_purchases['price'].max()\n",
    "data_purchases[cond]"
   ]
  },
  {
   "cell_type": "code",
   "execution_count": 1152,
   "metadata": {
    "colab": {
     "base_uri": "https://localhost:8080/",
     "height": 452
    },
    "id": "1PuZjQckVBTI",
    "outputId": "30af01e5-5d21-4491-eb53-17a0d27c0a61"
   },
   "outputs": [
    {
     "data": {
      "image/png": "[encoded data removed]",
      "text/plain": [
       "<Figure size 640x480 with 1 Axes>"
      ]
     },
     "metadata": {},
     "output_type": "display_data"
    }
   ],
   "source": [
    "cond = (data_purchases['category_ids'] == \"['4', '29', '313', '1574']\")\n",
    "data_purchases[cond].hist(\n",
    "    'price',\n",
    "    bins=50,\n",
    "    color='blue')\n",
    "plt.title('Гистограмма цены товара с категорией 4, 29, 313, 1574')\n",
    "plt.show();"
   ]
  },
  {
   "cell_type": "markdown",
   "metadata": {
    "id": "fA7-5E21Ye5g"
   },
   "source": [
    "Распределение цены на товар имеет значительный диапазон. И все же максимальное значение цены встречается лишь один раз.\n",
    "<br> Вывожу данные по всем покупкам клиента, сделавшего самую дорогую покупку:"
   ]
  },
  {
   "cell_type": "code",
   "execution_count": 1154,
   "metadata": {
    "colab": {
     "base_uri": "https://localhost:8080/"
    },
    "id": "Y30cZjdsYz6J",
    "outputId": "930010d4-910d-4c45-bc9b-c86a7bd587d5"
   },
   "outputs": [
    {
     "data": {
      "text/plain": [
       "20"
      ]
     },
     "execution_count": 1154,
     "metadata": {},
     "output_type": "execute_result"
    }
   ],
   "source": [
    "cond = data_purchases['client_id'] == 1515915625553309277\n",
    "len(data_purchases[cond])"
   ]
  },
  {
   "cell_type": "code",
   "execution_count": 1155,
   "metadata": {
    "colab": {
     "base_uri": "https://localhost:8080/",
     "height": 676
    },
    "id": "YZkzM_5WZ7wm",
    "outputId": "a9f8f2fd-a7ce-48c8-a5dc-d20879d9110b"
   },
   "outputs": [
    {
     "data": {
      "text/html": [
       "<div>\n",
       "<style scoped>\n",
       "    .dataframe tbody tr th:only-of-type {\n",
       "        vertical-align: middle;\n",
       "    }\n",
       "\n",
       "    .dataframe tbody tr th {\n",
       "        vertical-align: top;\n",
       "    }\n",
       "\n",
       "    .dataframe thead th {\n",
       "        text-align: right;\n",
       "    }\n",
       "</style>\n",
       "<table border=\"1\" class=\"dataframe\">\n",
       "  <thead>\n",
       "    <tr style=\"text-align: right;\">\n",
       "      <th></th>\n",
       "      <th>client_id</th>\n",
       "      <th>quantity</th>\n",
       "      <th>price</th>\n",
       "      <th>category_ids</th>\n",
       "      <th>date</th>\n",
       "      <th>message_id</th>\n",
       "    </tr>\n",
       "  </thead>\n",
       "  <tbody>\n",
       "    <tr>\n",
       "      <th>186733</th>\n",
       "      <td>1515915625553309277</td>\n",
       "      <td>1</td>\n",
       "      <td>24999.0</td>\n",
       "      <td>['4', '29', '313', '1574']</td>\n",
       "      <td>2023-12-24</td>\n",
       "      <td>1515915625553309277-14352-6585585d7a711</td>\n",
       "    </tr>\n",
       "    <tr>\n",
       "      <th>186734</th>\n",
       "      <td>1515915625553309277</td>\n",
       "      <td>1</td>\n",
       "      <td>21962.0</td>\n",
       "      <td>['4', '29', '313', '1574']</td>\n",
       "      <td>2023-12-24</td>\n",
       "      <td>1515915625553309277-14352-6585585d7a711</td>\n",
       "    </tr>\n",
       "    <tr>\n",
       "      <th>186735</th>\n",
       "      <td>1515915625553309277</td>\n",
       "      <td>1</td>\n",
       "      <td>21962.0</td>\n",
       "      <td>['4', '29', '313', '1574']</td>\n",
       "      <td>2023-12-24</td>\n",
       "      <td>1515915625553309277-14352-6585585d7a711</td>\n",
       "    </tr>\n",
       "    <tr>\n",
       "      <th>186736</th>\n",
       "      <td>1515915625553309277</td>\n",
       "      <td>1</td>\n",
       "      <td>85499.0</td>\n",
       "      <td>['4', '29', '313', '1574']</td>\n",
       "      <td>2023-12-24</td>\n",
       "      <td>1515915625553309277-14352-6585585d7a711</td>\n",
       "    </tr>\n",
       "    <tr>\n",
       "      <th>188161</th>\n",
       "      <td>1515915625553309277</td>\n",
       "      <td>1</td>\n",
       "      <td>20999.0</td>\n",
       "      <td>['4', '29', '312', '1576']</td>\n",
       "      <td>2023-12-26</td>\n",
       "      <td>1515915625553309277-14386-6589563c81fe6</td>\n",
       "    </tr>\n",
       "    <tr>\n",
       "      <th>188162</th>\n",
       "      <td>1515915625553309277</td>\n",
       "      <td>1</td>\n",
       "      <td>20999.0</td>\n",
       "      <td>['4', '29', '312', '1576']</td>\n",
       "      <td>2023-12-26</td>\n",
       "      <td>1515915625553309277-14386-6589563c81fe6</td>\n",
       "    </tr>\n",
       "    <tr>\n",
       "      <th>188163</th>\n",
       "      <td>1515915625553309277</td>\n",
       "      <td>1</td>\n",
       "      <td>25499.0</td>\n",
       "      <td>['4', '29', '312', '1576']</td>\n",
       "      <td>2023-12-26</td>\n",
       "      <td>1515915625553309277-14386-6589563c81fe6</td>\n",
       "    </tr>\n",
       "    <tr>\n",
       "      <th>188164</th>\n",
       "      <td>1515915625553309277</td>\n",
       "      <td>1</td>\n",
       "      <td>29499.0</td>\n",
       "      <td>['4', '29', '312', '1581']</td>\n",
       "      <td>2023-12-26</td>\n",
       "      <td>1515915625553309277-14386-6589563c81fe6</td>\n",
       "    </tr>\n",
       "    <tr>\n",
       "      <th>188165</th>\n",
       "      <td>1515915625553309277</td>\n",
       "      <td>1</td>\n",
       "      <td>29999.0</td>\n",
       "      <td>['4', '29', '312', '1576']</td>\n",
       "      <td>2023-12-26</td>\n",
       "      <td>1515915625553309277-14386-6589563c81fe6</td>\n",
       "    </tr>\n",
       "    <tr>\n",
       "      <th>188166</th>\n",
       "      <td>1515915625553309277</td>\n",
       "      <td>1</td>\n",
       "      <td>17849.0</td>\n",
       "      <td>['4', '29', '312', '1576']</td>\n",
       "      <td>2023-12-26</td>\n",
       "      <td>1515915625553309277-14386-6589563c81fe6</td>\n",
       "    </tr>\n",
       "    <tr>\n",
       "      <th>188167</th>\n",
       "      <td>1515915625553309277</td>\n",
       "      <td>1</td>\n",
       "      <td>17849.0</td>\n",
       "      <td>['4', '29', '312', '1576']</td>\n",
       "      <td>2023-12-26</td>\n",
       "      <td>1515915625553309277-14386-6589563c81fe6</td>\n",
       "    </tr>\n",
       "    <tr>\n",
       "      <th>188168</th>\n",
       "      <td>1515915625553309277</td>\n",
       "      <td>1</td>\n",
       "      <td>29499.0</td>\n",
       "      <td>['4', '29', '312', '1581']</td>\n",
       "      <td>2023-12-26</td>\n",
       "      <td>1515915625553309277-14386-6589563c81fe6</td>\n",
       "    </tr>\n",
       "    <tr>\n",
       "      <th>188169</th>\n",
       "      <td>1515915625553309277</td>\n",
       "      <td>1</td>\n",
       "      <td>29999.0</td>\n",
       "      <td>['4', '29', '312', '1576']</td>\n",
       "      <td>2023-12-26</td>\n",
       "      <td>1515915625553309277-14386-6589563c81fe6</td>\n",
       "    </tr>\n",
       "    <tr>\n",
       "      <th>188170</th>\n",
       "      <td>1515915625553309277</td>\n",
       "      <td>1</td>\n",
       "      <td>25499.0</td>\n",
       "      <td>['4', '29', '312', '1576']</td>\n",
       "      <td>2023-12-26</td>\n",
       "      <td>1515915625553309277-14386-6589563c81fe6</td>\n",
       "    </tr>\n",
       "    <tr>\n",
       "      <th>188171</th>\n",
       "      <td>1515915625553309277</td>\n",
       "      <td>1</td>\n",
       "      <td>20649.0</td>\n",
       "      <td>['4', '29', '312', '1581']</td>\n",
       "      <td>2023-12-26</td>\n",
       "      <td>1515915625553309277-14386-6589563c81fe6</td>\n",
       "    </tr>\n",
       "    <tr>\n",
       "      <th>188172</th>\n",
       "      <td>1515915625553309277</td>\n",
       "      <td>1</td>\n",
       "      <td>20649.0</td>\n",
       "      <td>['4', '29', '312', '1581']</td>\n",
       "      <td>2023-12-26</td>\n",
       "      <td>1515915625553309277-14386-6589563c81fe6</td>\n",
       "    </tr>\n",
       "    <tr>\n",
       "      <th>188173</th>\n",
       "      <td>1515915625553309277</td>\n",
       "      <td>1</td>\n",
       "      <td>21000.0</td>\n",
       "      <td>['4', '29', '312', '1576']</td>\n",
       "      <td>2023-12-26</td>\n",
       "      <td>1515915625553309277-14386-6589563c81fe6</td>\n",
       "    </tr>\n",
       "    <tr>\n",
       "      <th>188174</th>\n",
       "      <td>1515915625553309277</td>\n",
       "      <td>1</td>\n",
       "      <td>21000.0</td>\n",
       "      <td>['4', '29', '312', '1576']</td>\n",
       "      <td>2023-12-26</td>\n",
       "      <td>1515915625553309277-14386-6589563c81fe6</td>\n",
       "    </tr>\n",
       "    <tr>\n",
       "      <th>188175</th>\n",
       "      <td>1515915625553309277</td>\n",
       "      <td>1</td>\n",
       "      <td>25499.0</td>\n",
       "      <td>['4', '29', '312', '1576']</td>\n",
       "      <td>2023-12-26</td>\n",
       "      <td>1515915625553309277-14386-6589563c81fe6</td>\n",
       "    </tr>\n",
       "    <tr>\n",
       "      <th>188176</th>\n",
       "      <td>1515915625553309277</td>\n",
       "      <td>1</td>\n",
       "      <td>29499.0</td>\n",
       "      <td>['4', '29', '312', '1581']</td>\n",
       "      <td>2023-12-26</td>\n",
       "      <td>1515915625553309277-14386-6589563c81fe6</td>\n",
       "    </tr>\n",
       "  </tbody>\n",
       "</table>\n",
       "</div>"
      ],
      "text/plain": [
       "                  client_id  quantity    price                category_ids  \\\n",
       "186733  1515915625553309277         1  24999.0  ['4', '29', '313', '1574']   \n",
       "186734  1515915625553309277         1  21962.0  ['4', '29', '313', '1574']   \n",
       "186735  1515915625553309277         1  21962.0  ['4', '29', '313', '1574']   \n",
       "186736  1515915625553309277         1  85499.0  ['4', '29', '313', '1574']   \n",
       "188161  1515915625553309277         1  20999.0  ['4', '29', '312', '1576']   \n",
       "188162  1515915625553309277         1  20999.0  ['4', '29', '312', '1576']   \n",
       "188163  1515915625553309277         1  25499.0  ['4', '29', '312', '1576']   \n",
       "188164  1515915625553309277         1  29499.0  ['4', '29', '312', '1581']   \n",
       "188165  1515915625553309277         1  29999.0  ['4', '29', '312', '1576']   \n",
       "188166  1515915625553309277         1  17849.0  ['4', '29', '312', '1576']   \n",
       "188167  1515915625553309277         1  17849.0  ['4', '29', '312', '1576']   \n",
       "188168  1515915625553309277         1  29499.0  ['4', '29', '312', '1581']   \n",
       "188169  1515915625553309277         1  29999.0  ['4', '29', '312', '1576']   \n",
       "188170  1515915625553309277         1  25499.0  ['4', '29', '312', '1576']   \n",
       "188171  1515915625553309277         1  20649.0  ['4', '29', '312', '1581']   \n",
       "188172  1515915625553309277         1  20649.0  ['4', '29', '312', '1581']   \n",
       "188173  1515915625553309277         1  21000.0  ['4', '29', '312', '1576']   \n",
       "188174  1515915625553309277         1  21000.0  ['4', '29', '312', '1576']   \n",
       "188175  1515915625553309277         1  25499.0  ['4', '29', '312', '1576']   \n",
       "188176  1515915625553309277         1  29499.0  ['4', '29', '312', '1581']   \n",
       "\n",
       "             date                               message_id  \n",
       "186733 2023-12-24  1515915625553309277-14352-6585585d7a711  \n",
       "186734 2023-12-24  1515915625553309277-14352-6585585d7a711  \n",
       "186735 2023-12-24  1515915625553309277-14352-6585585d7a711  \n",
       "186736 2023-12-24  1515915625553309277-14352-6585585d7a711  \n",
       "188161 2023-12-26  1515915625553309277-14386-6589563c81fe6  \n",
       "188162 2023-12-26  1515915625553309277-14386-6589563c81fe6  \n",
       "188163 2023-12-26  1515915625553309277-14386-6589563c81fe6  \n",
       "188164 2023-12-26  1515915625553309277-14386-6589563c81fe6  \n",
       "188165 2023-12-26  1515915625553309277-14386-6589563c81fe6  \n",
       "188166 2023-12-26  1515915625553309277-14386-6589563c81fe6  \n",
       "188167 2023-12-26  1515915625553309277-14386-6589563c81fe6  \n",
       "188168 2023-12-26  1515915625553309277-14386-6589563c81fe6  \n",
       "188169 2023-12-26  1515915625553309277-14386-6589563c81fe6  \n",
       "188170 2023-12-26  1515915625553309277-14386-6589563c81fe6  \n",
       "188171 2023-12-26  1515915625553309277-14386-6589563c81fe6  \n",
       "188172 2023-12-26  1515915625553309277-14386-6589563c81fe6  \n",
       "188173 2023-12-26  1515915625553309277-14386-6589563c81fe6  \n",
       "188174 2023-12-26  1515915625553309277-14386-6589563c81fe6  \n",
       "188175 2023-12-26  1515915625553309277-14386-6589563c81fe6  \n",
       "188176 2023-12-26  1515915625553309277-14386-6589563c81fe6  "
      ]
     },
     "execution_count": 1155,
     "metadata": {},
     "output_type": "execute_result"
    }
   ],
   "source": [
    "data_purchases[cond]"
   ]
  },
  {
   "cell_type": "markdown",
   "metadata": {
    "id": "O9hF1u1kaBGq"
   },
   "source": [
    "Как следует из таблицы выше покупатель приобрел 4 товара категории ['4', '29', '313', '1574'] в один день по разным ценам, в том числе и по самой высокой. Видимо это супер дорогая брендовая вещь."
   ]
  },
  {
   "cell_type": "code",
   "execution_count": 1157,
   "metadata": {
    "colab": {
     "base_uri": "https://localhost:8080/",
     "height": 335
    },
    "id": "bXDDmn-MvzPT",
    "outputId": "c07525cd-d61c-42fe-8739-da3d0d80d163"
   },
   "outputs": [
    {
     "data": {
      "text/plain": [
       "count    202208.000000\n",
       "mean          1.006483\n",
       "std           0.184384\n",
       "min           1.000000\n",
       "25%           1.000000\n",
       "50%           1.000000\n",
       "75%           1.000000\n",
       "max          30.000000\n",
       "Name: quantity, dtype: float64"
      ]
     },
     "execution_count": 1157,
     "metadata": {},
     "output_type": "execute_result"
    }
   ],
   "source": [
    "data_purchases['quantity'].describe()"
   ]
  },
  {
   "cell_type": "code",
   "execution_count": 1158,
   "metadata": {
    "colab": {
     "base_uri": "https://localhost:8080/"
    },
    "id": "fg5Mi_LetTHO",
    "outputId": "def4414c-c55e-40a4-ade1-8f1d55292924"
   },
   "outputs": [
    {
     "data": {
      "text/plain": [
       "array([ 1,  2,  3, 10,  4, 25, 20, 13, 30, 15,  6, 18,  8,  9,  5,  7],\n",
       "      dtype=int64)"
      ]
     },
     "execution_count": 1158,
     "metadata": {},
     "output_type": "execute_result"
    }
   ],
   "source": [
    "data_purchases['quantity'].unique()"
   ]
  },
  {
   "cell_type": "markdown",
   "metadata": {
    "id": "X5y1-PSOu-A7"
   },
   "source": [
    "Поскольку количество товара встречается более 1 позиции, то введу столбец 'tot_spent'."
   ]
  },
  {
   "cell_type": "code",
   "execution_count": 1160,
   "metadata": {
    "colab": {
     "base_uri": "https://localhost:8080/",
     "height": 206
    },
    "id": "WIZzLN_XvOqY",
    "outputId": "8a543921-3cfd-440b-8f2d-17d4547df9c2"
   },
   "outputs": [
    {
     "data": {
      "text/html": [
       "<div>\n",
       "<style scoped>\n",
       "    .dataframe tbody tr th:only-of-type {\n",
       "        vertical-align: middle;\n",
       "    }\n",
       "\n",
       "    .dataframe tbody tr th {\n",
       "        vertical-align: top;\n",
       "    }\n",
       "\n",
       "    .dataframe thead th {\n",
       "        text-align: right;\n",
       "    }\n",
       "</style>\n",
       "<table border=\"1\" class=\"dataframe\">\n",
       "  <thead>\n",
       "    <tr style=\"text-align: right;\">\n",
       "      <th></th>\n",
       "      <th>client_id</th>\n",
       "      <th>quantity</th>\n",
       "      <th>price</th>\n",
       "      <th>category_ids</th>\n",
       "      <th>date</th>\n",
       "      <th>message_id</th>\n",
       "      <th>tot_spent</th>\n",
       "    </tr>\n",
       "  </thead>\n",
       "  <tbody>\n",
       "    <tr>\n",
       "      <th>0</th>\n",
       "      <td>1515915625468169594</td>\n",
       "      <td>1</td>\n",
       "      <td>1999.0</td>\n",
       "      <td>['4', '28', '57', '431']</td>\n",
       "      <td>2022-05-16</td>\n",
       "      <td>1515915625468169594-4301-627b661e9736d</td>\n",
       "      <td>1999.0</td>\n",
       "    </tr>\n",
       "    <tr>\n",
       "      <th>1</th>\n",
       "      <td>1515915625468169594</td>\n",
       "      <td>1</td>\n",
       "      <td>2499.0</td>\n",
       "      <td>['4', '28', '57', '431']</td>\n",
       "      <td>2022-05-16</td>\n",
       "      <td>1515915625468169594-4301-627b661e9736d</td>\n",
       "      <td>2499.0</td>\n",
       "    </tr>\n",
       "    <tr>\n",
       "      <th>2</th>\n",
       "      <td>1515915625471138230</td>\n",
       "      <td>1</td>\n",
       "      <td>6499.0</td>\n",
       "      <td>['4', '28', '57', '431']</td>\n",
       "      <td>2022-05-16</td>\n",
       "      <td>1515915625471138230-4437-6282242f27843</td>\n",
       "      <td>6499.0</td>\n",
       "    </tr>\n",
       "    <tr>\n",
       "      <th>3</th>\n",
       "      <td>1515915625471138230</td>\n",
       "      <td>1</td>\n",
       "      <td>4999.0</td>\n",
       "      <td>['4', '28', '244', '432']</td>\n",
       "      <td>2022-05-16</td>\n",
       "      <td>1515915625471138230-4437-6282242f27843</td>\n",
       "      <td>4999.0</td>\n",
       "    </tr>\n",
       "    <tr>\n",
       "      <th>4</th>\n",
       "      <td>1515915625471138230</td>\n",
       "      <td>1</td>\n",
       "      <td>4999.0</td>\n",
       "      <td>['4', '28', '49', '413']</td>\n",
       "      <td>2022-05-16</td>\n",
       "      <td>1515915625471138230-4437-6282242f27843</td>\n",
       "      <td>4999.0</td>\n",
       "    </tr>\n",
       "  </tbody>\n",
       "</table>\n",
       "</div>"
      ],
      "text/plain": [
       "             client_id  quantity   price               category_ids  \\\n",
       "0  1515915625468169594         1  1999.0   ['4', '28', '57', '431']   \n",
       "1  1515915625468169594         1  2499.0   ['4', '28', '57', '431']   \n",
       "2  1515915625471138230         1  6499.0   ['4', '28', '57', '431']   \n",
       "3  1515915625471138230         1  4999.0  ['4', '28', '244', '432']   \n",
       "4  1515915625471138230         1  4999.0   ['4', '28', '49', '413']   \n",
       "\n",
       "        date                              message_id  tot_spent  \n",
       "0 2022-05-16  1515915625468169594-4301-627b661e9736d     1999.0  \n",
       "1 2022-05-16  1515915625468169594-4301-627b661e9736d     2499.0  \n",
       "2 2022-05-16  1515915625471138230-4437-6282242f27843     6499.0  \n",
       "3 2022-05-16  1515915625471138230-4437-6282242f27843     4999.0  \n",
       "4 2022-05-16  1515915625471138230-4437-6282242f27843     4999.0  "
      ]
     },
     "execution_count": 1160,
     "metadata": {},
     "output_type": "execute_result"
    }
   ],
   "source": [
    "data_purchases['tot_spent'] = data_purchases['quantity'] * data_purchases['price']\n",
    "data_purchases.head()"
   ]
  },
  {
   "cell_type": "markdown",
   "metadata": {
    "id": "Pmrr9NRtAk0G"
   },
   "source": [
    "Выведу количество уникальных category_ids:"
   ]
  },
  {
   "cell_type": "code",
   "execution_count": 1162,
   "metadata": {
    "colab": {
     "base_uri": "https://localhost:8080/"
    },
    "id": "sFXf8IPKhfzH",
    "outputId": "8879389a-ccd3-4fc4-c78f-e3f80a0ccf1c"
   },
   "outputs": [
    {
     "data": {
      "text/plain": [
       "933"
      ]
     },
     "execution_count": 1162,
     "metadata": {},
     "output_type": "execute_result"
    }
   ],
   "source": [
    "len(data_purchases['category_ids'].unique())"
   ]
  },
  {
   "cell_type": "code",
   "execution_count": 1163,
   "metadata": {
    "colab": {
     "base_uri": "https://localhost:8080/"
    },
    "id": "Udm7MNK3cmt3",
    "outputId": "d5861dab-8960-4235-f5b1-985e0887cb25"
   },
   "outputs": [
    {
     "name": "stdout",
     "output_type": "stream",
     "text": [
      "Максимальное число подкатегорий в category_ids составляет 5\n",
      "Минимальное число подкатегорий в category_ids составляет 0\n"
     ]
    }
   ],
   "source": [
    "min_cat_items = 10\n",
    "max_cat_items = 0\n",
    "for elm in data_purchases['category_ids'].unique():\n",
    "    if max_cat_items < elm.count(\"'\") // 2:\n",
    "        max_cat_items = elm.count(\"'\") // 2\n",
    "    if min_cat_items > elm.count(\"'\") // 2:\n",
    "        min_cat_items = elm.count(\"'\") // 2\n",
    "print(f'Максимальное число подкатегорий в category_ids составляет {max_cat_items}')\n",
    "print(f'Минимальное число подкатегорий в category_ids составляет {min_cat_items}')"
   ]
  },
  {
   "cell_type": "markdown",
   "metadata": {
    "id": "3Lf3ODeH2n5u"
   },
   "source": [
    "Как видно есть \"пустышки\". Максимальное количество вложенных подкатегорий составляет 5. Следовательно размерность категорий разная. В итоге есть смысл выделить только основную категорию."
   ]
  },
  {
   "cell_type": "markdown",
   "metadata": {
    "id": "ylEeHihMBIwq"
   },
   "source": [
    "Посчитаю количество пустых категорий товара:"
   ]
  },
  {
   "cell_type": "code",
   "execution_count": 1166,
   "metadata": {
    "colab": {
     "base_uri": "https://localhost:8080/"
    },
    "id": "bouIvkKTBDDC",
    "outputId": "6e6e4bdc-2f99-4a2d-e19c-dd7c9dc67061"
   },
   "outputs": [
    {
     "data": {
      "text/plain": [
       "5579"
      ]
     },
     "execution_count": 1166,
     "metadata": {},
     "output_type": "execute_result"
    }
   ],
   "source": [
    "len(data_purchases[data_purchases['category_ids'] == '[]'])"
   ]
  },
  {
   "cell_type": "markdown",
   "metadata": {
    "id": "uqYvG-TsBRjZ"
   },
   "source": [
    "Количество пустышек выглядит по абсолютной метрике большим. Посмотрю относительное значение:"
   ]
  },
  {
   "cell_type": "code",
   "execution_count": 1168,
   "metadata": {
    "colab": {
     "base_uri": "https://localhost:8080/",
     "height": 36
    },
    "id": "-PCVlYZJBZto",
    "outputId": "7cf3f02f-f070-48af-8755-578fc271376d"
   },
   "outputs": [
    {
     "data": {
      "text/plain": [
       "'2.76%'"
      ]
     },
     "execution_count": 1168,
     "metadata": {},
     "output_type": "execute_result"
    }
   ],
   "source": [
    "format(len(data_purchases[data_purchases['category_ids'] == '[]'])/len(data_purchases), '0.2%')"
   ]
  },
  {
   "cell_type": "markdown",
   "metadata": {
    "id": "-zUKGyue8mpc"
   },
   "source": [
    "Значений не много. При группировке данных и выделении основной категории для каждого клиента по моде пустышки должны пропасть."
   ]
  },
  {
   "cell_type": "markdown",
   "metadata": {
    "id": "I4-55JjT5nlF"
   },
   "source": [
    "Исследую столбец с датой:"
   ]
  },
  {
   "cell_type": "code",
   "execution_count": 1171,
   "metadata": {
    "colab": {
     "base_uri": "https://localhost:8080/",
     "height": 303
    },
    "id": "4TfO8qDE5nSO",
    "outputId": "3239942f-5668-4155-9963-38e71f103365"
   },
   "outputs": [
    {
     "data": {
      "text/plain": [
       "count                           202208\n",
       "mean     2023-03-17 02:49:35.739832064\n",
       "min                2022-05-16 00:00:00\n",
       "25%                2022-11-12 00:00:00\n",
       "50%                2023-04-12 00:00:00\n",
       "75%                2023-07-03 00:00:00\n",
       "max                2024-02-16 00:00:00\n",
       "Name: date, dtype: object"
      ]
     },
     "execution_count": 1171,
     "metadata": {},
     "output_type": "execute_result"
    }
   ],
   "source": [
    "data_purchases['date'].describe()"
   ]
  },
  {
   "cell_type": "markdown",
   "metadata": {
    "id": "__qk5W7W5-IC"
   },
   "source": [
    "Если принять что выгрузка данных датируется максимальным значением даты, то можно писчитать для каждого клиента разницу дней между его посленей покупкой и этой крайней датой иввести это как признак."
   ]
  },
  {
   "cell_type": "markdown",
   "metadata": {
    "id": "HPm7ZyRj5xwH"
   },
   "source": [
    "Выделю номер основной категории покупки:"
   ]
  },
  {
   "cell_type": "code",
   "execution_count": 1175,
   "metadata": {
    "id": "ahbIaRGPNONt"
   },
   "outputs": [],
   "source": [
    "def main_cat(row):\n",
    "    mcl = row['category_ids'].find(\"'\", 2)\n",
    "    #print(type(mcl), mcl)\n",
    "    if mcl > 0:\n",
    "        m_c = int(row['category_ids'][2:mcl])\n",
    "    else:\n",
    "        m_c = 0\n",
    "    return m_c"
   ]
  },
  {
   "cell_type": "code",
   "execution_count": 1176,
   "metadata": {
    "colab": {
     "base_uri": "https://localhost:8080/",
     "height": 206
    },
    "id": "jWI-yjbYOyNI",
    "outputId": "27cfa674-875c-43c3-b856-a746e29f7cd5"
   },
   "outputs": [
    {
     "data": {
      "text/html": [
       "<div>\n",
       "<style scoped>\n",
       "    .dataframe tbody tr th:only-of-type {\n",
       "        vertical-align: middle;\n",
       "    }\n",
       "\n",
       "    .dataframe tbody tr th {\n",
       "        vertical-align: top;\n",
       "    }\n",
       "\n",
       "    .dataframe thead th {\n",
       "        text-align: right;\n",
       "    }\n",
       "</style>\n",
       "<table border=\"1\" class=\"dataframe\">\n",
       "  <thead>\n",
       "    <tr style=\"text-align: right;\">\n",
       "      <th></th>\n",
       "      <th>client_id</th>\n",
       "      <th>quantity</th>\n",
       "      <th>price</th>\n",
       "      <th>category_ids</th>\n",
       "      <th>date</th>\n",
       "      <th>message_id</th>\n",
       "      <th>tot_spent</th>\n",
       "      <th>primary_cat</th>\n",
       "    </tr>\n",
       "  </thead>\n",
       "  <tbody>\n",
       "    <tr>\n",
       "      <th>0</th>\n",
       "      <td>1515915625468169594</td>\n",
       "      <td>1</td>\n",
       "      <td>1999.0</td>\n",
       "      <td>['4', '28', '57', '431']</td>\n",
       "      <td>2022-05-16</td>\n",
       "      <td>1515915625468169594-4301-627b661e9736d</td>\n",
       "      <td>1999.0</td>\n",
       "      <td>4</td>\n",
       "    </tr>\n",
       "    <tr>\n",
       "      <th>1</th>\n",
       "      <td>1515915625468169594</td>\n",
       "      <td>1</td>\n",
       "      <td>2499.0</td>\n",
       "      <td>['4', '28', '57', '431']</td>\n",
       "      <td>2022-05-16</td>\n",
       "      <td>1515915625468169594-4301-627b661e9736d</td>\n",
       "      <td>2499.0</td>\n",
       "      <td>4</td>\n",
       "    </tr>\n",
       "    <tr>\n",
       "      <th>2</th>\n",
       "      <td>1515915625471138230</td>\n",
       "      <td>1</td>\n",
       "      <td>6499.0</td>\n",
       "      <td>['4', '28', '57', '431']</td>\n",
       "      <td>2022-05-16</td>\n",
       "      <td>1515915625471138230-4437-6282242f27843</td>\n",
       "      <td>6499.0</td>\n",
       "      <td>4</td>\n",
       "    </tr>\n",
       "    <tr>\n",
       "      <th>3</th>\n",
       "      <td>1515915625471138230</td>\n",
       "      <td>1</td>\n",
       "      <td>4999.0</td>\n",
       "      <td>['4', '28', '244', '432']</td>\n",
       "      <td>2022-05-16</td>\n",
       "      <td>1515915625471138230-4437-6282242f27843</td>\n",
       "      <td>4999.0</td>\n",
       "      <td>4</td>\n",
       "    </tr>\n",
       "    <tr>\n",
       "      <th>4</th>\n",
       "      <td>1515915625471138230</td>\n",
       "      <td>1</td>\n",
       "      <td>4999.0</td>\n",
       "      <td>['4', '28', '49', '413']</td>\n",
       "      <td>2022-05-16</td>\n",
       "      <td>1515915625471138230-4437-6282242f27843</td>\n",
       "      <td>4999.0</td>\n",
       "      <td>4</td>\n",
       "    </tr>\n",
       "  </tbody>\n",
       "</table>\n",
       "</div>"
      ],
      "text/plain": [
       "             client_id  quantity   price               category_ids  \\\n",
       "0  1515915625468169594         1  1999.0   ['4', '28', '57', '431']   \n",
       "1  1515915625468169594         1  2499.0   ['4', '28', '57', '431']   \n",
       "2  1515915625471138230         1  6499.0   ['4', '28', '57', '431']   \n",
       "3  1515915625471138230         1  4999.0  ['4', '28', '244', '432']   \n",
       "4  1515915625471138230         1  4999.0   ['4', '28', '49', '413']   \n",
       "\n",
       "        date                              message_id  tot_spent  primary_cat  \n",
       "0 2022-05-16  1515915625468169594-4301-627b661e9736d     1999.0            4  \n",
       "1 2022-05-16  1515915625468169594-4301-627b661e9736d     2499.0            4  \n",
       "2 2022-05-16  1515915625471138230-4437-6282242f27843     6499.0            4  \n",
       "3 2022-05-16  1515915625471138230-4437-6282242f27843     4999.0            4  \n",
       "4 2022-05-16  1515915625471138230-4437-6282242f27843     4999.0            4  "
      ]
     },
     "execution_count": 1176,
     "metadata": {},
     "output_type": "execute_result"
    }
   ],
   "source": [
    "data_purchases['primary_cat'] = data_purchases.apply(main_cat, axis=1)\n",
    "data_purchases.head()"
   ]
  },
  {
   "cell_type": "markdown",
   "metadata": {
    "id": "PL-Opcj2Qr2B"
   },
   "source": [
    "Проверю как отработала функция"
   ]
  },
  {
   "cell_type": "code",
   "execution_count": 1178,
   "metadata": {
    "colab": {
     "base_uri": "https://localhost:8080/"
    },
    "id": "DYWZ28UE7508",
    "outputId": "d734441f-49bf-4f97-b67a-09e41bb64cd2"
   },
   "outputs": [
    {
     "data": {
      "text/plain": [
       "array([   4,    2, 5562,    1,    0, 5963,    3, 6060,    5], dtype=int64)"
      ]
     },
     "execution_count": 1178,
     "metadata": {},
     "output_type": "execute_result"
    }
   ],
   "source": [
    "data_purchases['primary_cat'].unique()"
   ]
  },
  {
   "cell_type": "code",
   "execution_count": 1179,
   "metadata": {},
   "outputs": [
    {
     "data": {
      "text/plain": [
       "4"
      ]
     },
     "execution_count": 1179,
     "metadata": {},
     "output_type": "execute_result"
    }
   ],
   "source": [
    "data_purchases['primary_cat'].mode().values[0]"
   ]
  },
  {
   "cell_type": "markdown",
   "metadata": {
    "id": "-kZISJ1AmgOf"
   },
   "source": [
    "### Создаю новые признаки на базе purchases"
   ]
  },
  {
   "cell_type": "code",
   "execution_count": 1181,
   "metadata": {
    "colab": {
     "base_uri": "https://localhost:8080/"
    },
    "id": "Reo7TQvWYM69",
    "outputId": "dd5a1942-8079-453e-e613-ff6260122a31"
   },
   "outputs": [
    {
     "name": "stderr",
     "output_type": "stream",
     "text": [
      "C:\\Users\\Вячеслав\\AppData\\Local\\Temp\\ipykernel_18928\\478020472.py:1: FutureWarning: The provided callable <function sum at 0x00000235E71F6A20> is currently using SeriesGroupBy.sum. In a future version of pandas, the provided callable will be used directly. To keep current behavior pass the string \"sum\" instead.\n",
      "  train_data = data_purchases.pivot_table(index='client_id',\n"
     ]
    }
   ],
   "source": [
    "train_data = data_purchases.pivot_table(index='client_id',\n",
    "                           values = ['quantity', 'tot_spent', 'primary_cat', 'date'],\n",
    "                           aggfunc = {'quantity': np.sum,\n",
    "                                      'tot_spent': np.sum,\n",
    "                                      'primary_cat': st.mode,\n",
    "                                      'date':  lambda x: data_purchases['date'].max() - max(x)\n",
    "                                      }).reset_index()"
   ]
  },
  {
   "cell_type": "code",
   "execution_count": 1182,
   "metadata": {
    "colab": {
     "base_uri": "https://localhost:8080/",
     "height": 206
    },
    "id": "TR_0y3BwgKyD",
    "outputId": "814d4590-b0f4-482c-d508-d18000074e2b"
   },
   "outputs": [
    {
     "data": {
      "text/html": [
       "<div>\n",
       "<style scoped>\n",
       "    .dataframe tbody tr th:only-of-type {\n",
       "        vertical-align: middle;\n",
       "    }\n",
       "\n",
       "    .dataframe tbody tr th {\n",
       "        vertical-align: top;\n",
       "    }\n",
       "\n",
       "    .dataframe thead th {\n",
       "        text-align: right;\n",
       "    }\n",
       "</style>\n",
       "<table border=\"1\" class=\"dataframe\">\n",
       "  <thead>\n",
       "    <tr style=\"text-align: right;\">\n",
       "      <th></th>\n",
       "      <th>client_id</th>\n",
       "      <th>days_from_output_date</th>\n",
       "      <th>primary_cat</th>\n",
       "      <th>quantity</th>\n",
       "      <th>tot_spent</th>\n",
       "    </tr>\n",
       "  </thead>\n",
       "  <tbody>\n",
       "    <tr>\n",
       "      <th>0</th>\n",
       "      <td>1515915625468060902</td>\n",
       "      <td>630</td>\n",
       "      <td>4</td>\n",
       "      <td>7</td>\n",
       "      <td>6993.0</td>\n",
       "    </tr>\n",
       "    <tr>\n",
       "      <th>1</th>\n",
       "      <td>1515915625468061003</td>\n",
       "      <td>408</td>\n",
       "      <td>4</td>\n",
       "      <td>7</td>\n",
       "      <td>16235.0</td>\n",
       "    </tr>\n",
       "    <tr>\n",
       "      <th>2</th>\n",
       "      <td>1515915625468061099</td>\n",
       "      <td>640</td>\n",
       "      <td>4</td>\n",
       "      <td>1</td>\n",
       "      <td>299.0</td>\n",
       "    </tr>\n",
       "    <tr>\n",
       "      <th>3</th>\n",
       "      <td>1515915625468061100</td>\n",
       "      <td>6</td>\n",
       "      <td>4</td>\n",
       "      <td>2</td>\n",
       "      <td>2098.0</td>\n",
       "    </tr>\n",
       "    <tr>\n",
       "      <th>4</th>\n",
       "      <td>1515915625468061170</td>\n",
       "      <td>244</td>\n",
       "      <td>4</td>\n",
       "      <td>19</td>\n",
       "      <td>33601.0</td>\n",
       "    </tr>\n",
       "  </tbody>\n",
       "</table>\n",
       "</div>"
      ],
      "text/plain": [
       "             client_id  days_from_output_date  primary_cat  quantity  \\\n",
       "0  1515915625468060902                    630            4         7   \n",
       "1  1515915625468061003                    408            4         7   \n",
       "2  1515915625468061099                    640            4         1   \n",
       "3  1515915625468061100                      6            4         2   \n",
       "4  1515915625468061170                    244            4        19   \n",
       "\n",
       "   tot_spent  \n",
       "0     6993.0  \n",
       "1    16235.0  \n",
       "2      299.0  \n",
       "3     2098.0  \n",
       "4    33601.0  "
      ]
     },
     "execution_count": 1182,
     "metadata": {},
     "output_type": "execute_result"
    }
   ],
   "source": [
    "train_data['date'] = train_data['date'].dt.days\n",
    "train_data['primary_cat'] = train_data['primary_cat'].apply(lambda x: x[0])\n",
    "train_data = train_data.rename(columns={'date':'days_from_output_date'})\n",
    "train_data.head()"
   ]
  },
  {
   "cell_type": "code",
   "execution_count": 1183,
   "metadata": {},
   "outputs": [
    {
     "name": "stdout",
     "output_type": "stream",
     "text": [
      "<class 'pandas.core.frame.DataFrame'>\n",
      "RangeIndex: 49849 entries, 0 to 49848\n",
      "Data columns (total 5 columns):\n",
      " #   Column                 Non-Null Count  Dtype  \n",
      "---  ------                 --------------  -----  \n",
      " 0   client_id              49849 non-null  int64  \n",
      " 1   days_from_output_date  49849 non-null  int64  \n",
      " 2   primary_cat            49849 non-null  int64  \n",
      " 3   quantity               49849 non-null  int64  \n",
      " 4   tot_spent              49849 non-null  float64\n",
      "dtypes: float64(1), int64(4)\n",
      "memory usage: 1.9 MB\n"
     ]
    }
   ],
   "source": [
    "train_data.info()"
   ]
  },
  {
   "cell_type": "markdown",
   "metadata": {
    "id": "O2fyG6K5ZBIR"
   },
   "source": [
    "## Исследую данные из таблицы data_messages"
   ]
  },
  {
   "cell_type": "markdown",
   "metadata": {
    "id": "Lw6AwYoAF9K-"
   },
   "source": [
    "Количество уникальных client_id составляет:"
   ]
  },
  {
   "cell_type": "code",
   "execution_count": 1186,
   "metadata": {
    "colab": {
     "base_uri": "https://localhost:8080/"
    },
    "id": "z4EnNYa7F17e",
    "outputId": "a0710d11-1d70-4bf6-a67c-f6fd578e0874"
   },
   "outputs": [
    {
     "data": {
      "text/plain": [
       "53329"
      ]
     },
     "execution_count": 1186,
     "metadata": {},
     "output_type": "execute_result"
    }
   ],
   "source": [
    "len(data_messages['client_id'].unique())"
   ]
  },
  {
   "cell_type": "markdown",
   "metadata": {
    "id": "IKVBOfH8GF-q"
   },
   "source": [
    "Это значение больше, чем в таргете. Следовательно нужно избавиться от лишних client_id."
   ]
  },
  {
   "cell_type": "code",
   "execution_count": 1188,
   "metadata": {
    "id": "g2HY07OsMQD7"
   },
   "outputs": [],
   "source": [
    "cond = data_messages['client_id'].isin(data_target['client_id'].unique())\n",
    "data_messages = data_messages[cond]"
   ]
  },
  {
   "cell_type": "markdown",
   "metadata": {
    "id": "rcxknuIkfNOf"
   },
   "source": [
    "Проверяю новое количество уникальных client_id:"
   ]
  },
  {
   "cell_type": "code",
   "execution_count": 1190,
   "metadata": {
    "colab": {
     "base_uri": "https://localhost:8080/"
    },
    "id": "_8_aV7zTfK2D",
    "outputId": "17e5a698-1927-4988-fce7-6de0aae73aff"
   },
   "outputs": [
    {
     "data": {
      "text/plain": [
       "41982"
      ]
     },
     "execution_count": 1190,
     "metadata": {},
     "output_type": "execute_result"
    }
   ],
   "source": [
    "len(data_messages['client_id'].unique())"
   ]
  },
  {
   "cell_type": "markdown",
   "metadata": {
    "id": "CtKqCu-Mpcuv"
   },
   "source": [
    "Значений вышло меньше, чем в таргете. Для отсутствующих клиентов придется заполнять признаки \"заглушками\"."
   ]
  },
  {
   "cell_type": "markdown",
   "metadata": {
    "id": "OTF-AB5aZYDL"
   },
   "source": [
    "Выведу уникальные значения для категории channel:"
   ]
  },
  {
   "cell_type": "code",
   "execution_count": 1193,
   "metadata": {
    "colab": {
     "base_uri": "https://localhost:8080/"
    },
    "id": "ixbqehFjYoRg",
    "outputId": "8b84a070-3f0c-448b-9bc5-41bd8e2a97f2"
   },
   "outputs": [
    {
     "data": {
      "text/plain": [
       "array(['email', 'mobile_push'], dtype=object)"
      ]
     },
     "execution_count": 1193,
     "metadata": {},
     "output_type": "execute_result"
    }
   ],
   "source": [
    "data_messages['channel'].unique()"
   ]
  },
  {
   "cell_type": "markdown",
   "metadata": {
    "id": "GXgPeNtnZsb3"
   },
   "source": [
    "Посчитаю количество сообщений, отправленных по разному каналу отправки сообщений."
   ]
  },
  {
   "cell_type": "code",
   "execution_count": 1195,
   "metadata": {
    "colab": {
     "base_uri": "https://localhost:8080/",
     "height": 178
    },
    "id": "CShu9mcLZj0h",
    "outputId": "e6994ef4-a018-4221-dc6d-cceddc0a96b2"
   },
   "outputs": [
    {
     "data": {
      "text/plain": [
       "channel\n",
       "mobile_push    6088089\n",
       "email          4825108\n",
       "Name: count, dtype: int64"
      ]
     },
     "execution_count": 1195,
     "metadata": {},
     "output_type": "execute_result"
    }
   ],
   "source": [
    "data_messages.channel.value_counts()"
   ]
  },
  {
   "cell_type": "markdown",
   "metadata": {
    "id": "ZxrwjLcSan60"
   },
   "source": [
    "В целом по электронной почте было отправлено меньше всего сообщений. Есть смысл ввести признак моды канала для каждого пользователя."
   ]
  },
  {
   "cell_type": "markdown",
   "metadata": {
    "id": "APYtUHXjtP2c"
   },
   "source": [
    "Создаю сводную таблицу с признаками основного вида канала channel, количества event и количества рассылок, сделанных пользователю."
   ]
  },
  {
   "cell_type": "code",
   "execution_count": 1198,
   "metadata": {
    "colab": {
     "base_uri": "https://localhost:8080/",
     "height": 206
    },
    "id": "R6jDqm12m_2h",
    "outputId": "e250e74e-f288-49d5-e14a-a6518b8dbe4e"
   },
   "outputs": [
    {
     "data": {
      "text/html": [
       "<div>\n",
       "<style scoped>\n",
       "    .dataframe tbody tr th:only-of-type {\n",
       "        vertical-align: middle;\n",
       "    }\n",
       "\n",
       "    .dataframe tbody tr th {\n",
       "        vertical-align: top;\n",
       "    }\n",
       "\n",
       "    .dataframe thead th {\n",
       "        text-align: right;\n",
       "    }\n",
       "</style>\n",
       "<table border=\"1\" class=\"dataframe\">\n",
       "  <thead>\n",
       "    <tr style=\"text-align: right;\">\n",
       "      <th></th>\n",
       "      <th>client_id</th>\n",
       "      <th>channel</th>\n",
       "      <th>total_events</th>\n",
       "      <th>#_of_message_ids</th>\n",
       "    </tr>\n",
       "  </thead>\n",
       "  <tbody>\n",
       "    <tr>\n",
       "      <th>0</th>\n",
       "      <td>1515915625468060902</td>\n",
       "      <td>email</td>\n",
       "      <td>177</td>\n",
       "      <td>127</td>\n",
       "    </tr>\n",
       "    <tr>\n",
       "      <th>1</th>\n",
       "      <td>1515915625468061003</td>\n",
       "      <td>email</td>\n",
       "      <td>165</td>\n",
       "      <td>154</td>\n",
       "    </tr>\n",
       "    <tr>\n",
       "      <th>2</th>\n",
       "      <td>1515915625468061099</td>\n",
       "      <td>email</td>\n",
       "      <td>276</td>\n",
       "      <td>215</td>\n",
       "    </tr>\n",
       "    <tr>\n",
       "      <th>3</th>\n",
       "      <td>1515915625468061100</td>\n",
       "      <td>mobile_push</td>\n",
       "      <td>428</td>\n",
       "      <td>268</td>\n",
       "    </tr>\n",
       "    <tr>\n",
       "      <th>4</th>\n",
       "      <td>1515915625468061170</td>\n",
       "      <td>email</td>\n",
       "      <td>293</td>\n",
       "      <td>243</td>\n",
       "    </tr>\n",
       "  </tbody>\n",
       "</table>\n",
       "</div>"
      ],
      "text/plain": [
       "             client_id      channel  total_events  #_of_message_ids\n",
       "0  1515915625468060902        email           177               127\n",
       "1  1515915625468061003        email           165               154\n",
       "2  1515915625468061099        email           276               215\n",
       "3  1515915625468061100  mobile_push           428               268\n",
       "4  1515915625468061170        email           293               243"
      ]
     },
     "execution_count": 1198,
     "metadata": {},
     "output_type": "execute_result"
    }
   ],
   "source": [
    "train_messages = data_messages.pivot_table(index = 'client_id',\n",
    "                          values = ['channel', 'event', 'message_id'],\n",
    "                          aggfunc = {'channel': pd.Series.mode,\n",
    "                                     'event': pd.Series.count,\n",
    "                                     'message_id': pd.Series.nunique\n",
    "                                     }).reset_index()\n",
    "train_messages = train_messages.rename(columns={'event': 'total_events', 'message_id': '#_of_message_ids'})\n",
    "train_messages['channel']= train_messages['channel'].apply(lambda x: str(x))\n",
    "train_messages.head()"
   ]
  },
  {
   "cell_type": "code",
   "execution_count": 1199,
   "metadata": {},
   "outputs": [
    {
     "data": {
      "text/plain": [
       "array(['email', 'mobile_push', \"['email' 'mobile_push']\"], dtype=object)"
      ]
     },
     "execution_count": 1199,
     "metadata": {},
     "output_type": "execute_result"
    }
   ],
   "source": [
    "train_messages['channel'].unique()"
   ]
  },
  {
   "cell_type": "code",
   "execution_count": 1200,
   "metadata": {},
   "outputs": [
    {
     "name": "stdout",
     "output_type": "stream",
     "text": [
      "<class 'pandas.core.frame.DataFrame'>\n",
      "RangeIndex: 41982 entries, 0 to 41981\n",
      "Data columns (total 4 columns):\n",
      " #   Column            Non-Null Count  Dtype \n",
      "---  ------            --------------  ----- \n",
      " 0   client_id         41982 non-null  int64 \n",
      " 1   channel           41982 non-null  object\n",
      " 2   total_events      41982 non-null  int64 \n",
      " 3   #_of_message_ids  41982 non-null  int64 \n",
      "dtypes: int64(3), object(1)\n",
      "memory usage: 1.3+ MB\n"
     ]
    }
   ],
   "source": [
    "train_messages.info()"
   ]
  },
  {
   "cell_type": "markdown",
   "metadata": {
    "id": "j4u8yMDQRFQ0"
   },
   "source": [
    "Вывожу уникальные значения признака event:"
   ]
  },
  {
   "cell_type": "code",
   "execution_count": 1202,
   "metadata": {
    "colab": {
     "base_uri": "https://localhost:8080/"
    },
    "id": "o7k1yJtGZ2tW",
    "outputId": "6edf999f-7269-4c03-c801-de392c05e8a0"
   },
   "outputs": [
    {
     "data": {
      "text/plain": [
       "array(['open', 'click', 'purchase', 'send', 'unsubscribe', 'hbq_spam',\n",
       "       'hard_bounce', 'soft_bounce', 'subscribe', 'complain', 'close'],\n",
       "      dtype=object)"
      ]
     },
     "execution_count": 1202,
     "metadata": {},
     "output_type": "execute_result"
    }
   ],
   "source": [
    "data_messages['event'].unique()"
   ]
  },
  {
   "cell_type": "code",
   "execution_count": 1203,
   "metadata": {
    "colab": {
     "base_uri": "https://localhost:8080/",
     "height": 206
    },
    "id": "sOXdw8BmZV9P",
    "outputId": "0782dc39-0b7a-4009-c0f4-ab42e6470ec0"
   },
   "outputs": [
    {
     "data": {
      "text/html": [
       "<div>\n",
       "<style scoped>\n",
       "    .dataframe tbody tr th:only-of-type {\n",
       "        vertical-align: middle;\n",
       "    }\n",
       "\n",
       "    .dataframe tbody tr th {\n",
       "        vertical-align: top;\n",
       "    }\n",
       "\n",
       "    .dataframe thead th {\n",
       "        text-align: right;\n",
       "    }\n",
       "</style>\n",
       "<table border=\"1\" class=\"dataframe\">\n",
       "  <thead>\n",
       "    <tr style=\"text-align: right;\">\n",
       "      <th></th>\n",
       "      <th>bulk_campaign_id</th>\n",
       "      <th>client_id</th>\n",
       "      <th>message_id</th>\n",
       "      <th>event</th>\n",
       "      <th>channel</th>\n",
       "      <th>date</th>\n",
       "      <th>created_at</th>\n",
       "    </tr>\n",
       "  </thead>\n",
       "  <tbody>\n",
       "    <tr>\n",
       "      <th>27</th>\n",
       "      <td>4439</td>\n",
       "      <td>1515915625498693110</td>\n",
       "      <td>1515915625498693110-4439-62834130c8234</td>\n",
       "      <td>purchase</td>\n",
       "      <td>email</td>\n",
       "      <td>2022-05-19</td>\n",
       "      <td>2022-05-19 02:05:20</td>\n",
       "    </tr>\n",
       "    <tr>\n",
       "      <th>54</th>\n",
       "      <td>4439</td>\n",
       "      <td>1515915625558950747</td>\n",
       "      <td>1515915625558950747-4439-6283411f3ad55</td>\n",
       "      <td>purchase</td>\n",
       "      <td>email</td>\n",
       "      <td>2022-05-19</td>\n",
       "      <td>2022-05-19 03:15:19</td>\n",
       "    </tr>\n",
       "    <tr>\n",
       "      <th>58</th>\n",
       "      <td>4439</td>\n",
       "      <td>1515915625490515072</td>\n",
       "      <td>1515915625490515072-4439-6283411e33838</td>\n",
       "      <td>purchase</td>\n",
       "      <td>email</td>\n",
       "      <td>2022-05-19</td>\n",
       "      <td>2022-05-19 03:19:12</td>\n",
       "    </tr>\n",
       "    <tr>\n",
       "      <th>61</th>\n",
       "      <td>4439</td>\n",
       "      <td>1515915625490515072</td>\n",
       "      <td>1515915625490515072-4439-6283411e33838</td>\n",
       "      <td>purchase</td>\n",
       "      <td>email</td>\n",
       "      <td>2022-05-19</td>\n",
       "      <td>2022-05-19 03:25:13</td>\n",
       "    </tr>\n",
       "    <tr>\n",
       "      <th>62</th>\n",
       "      <td>4439</td>\n",
       "      <td>1515915625490515072</td>\n",
       "      <td>1515915625490515072-4439-6283411e33838</td>\n",
       "      <td>purchase</td>\n",
       "      <td>email</td>\n",
       "      <td>2022-05-19</td>\n",
       "      <td>2022-05-19 03:27:40</td>\n",
       "    </tr>\n",
       "  </tbody>\n",
       "</table>\n",
       "</div>"
      ],
      "text/plain": [
       "    bulk_campaign_id            client_id  \\\n",
       "27              4439  1515915625498693110   \n",
       "54              4439  1515915625558950747   \n",
       "58              4439  1515915625490515072   \n",
       "61              4439  1515915625490515072   \n",
       "62              4439  1515915625490515072   \n",
       "\n",
       "                                message_id     event channel       date  \\\n",
       "27  1515915625498693110-4439-62834130c8234  purchase   email 2022-05-19   \n",
       "54  1515915625558950747-4439-6283411f3ad55  purchase   email 2022-05-19   \n",
       "58  1515915625490515072-4439-6283411e33838  purchase   email 2022-05-19   \n",
       "61  1515915625490515072-4439-6283411e33838  purchase   email 2022-05-19   \n",
       "62  1515915625490515072-4439-6283411e33838  purchase   email 2022-05-19   \n",
       "\n",
       "            created_at  \n",
       "27 2022-05-19 02:05:20  \n",
       "54 2022-05-19 03:15:19  \n",
       "58 2022-05-19 03:19:12  \n",
       "61 2022-05-19 03:25:13  \n",
       "62 2022-05-19 03:27:40  "
      ]
     },
     "execution_count": 1203,
     "metadata": {},
     "output_type": "execute_result"
    }
   ],
   "source": [
    "cond = data_messages['event'] == 'purchase'\n",
    "data_messages[cond].head()"
   ]
  },
  {
   "cell_type": "markdown",
   "metadata": {
    "id": "8uiG08xu41Cb"
   },
   "source": [
    "Количество рассылок, которые имели event purchase:"
   ]
  },
  {
   "cell_type": "code",
   "execution_count": 1205,
   "metadata": {
    "colab": {
     "base_uri": "https://localhost:8080/"
    },
    "id": "oTqOZrn3ylpJ",
    "outputId": "4a1078d8-c453-410d-b952-f8f52a988d14"
   },
   "outputs": [
    {
     "data": {
      "text/plain": [
       "44493"
      ]
     },
     "execution_count": 1205,
     "metadata": {},
     "output_type": "execute_result"
    }
   ],
   "source": [
    "data_messages[data_messages['event'] == 'purchase']['message_id'].nunique()"
   ]
  },
  {
   "cell_type": "markdown",
   "metadata": {
    "id": "qwEGZyB-4q7D"
   },
   "source": [
    "Количество клиентов, у которых есть event = purchase:"
   ]
  },
  {
   "cell_type": "code",
   "execution_count": 1207,
   "metadata": {
    "colab": {
     "base_uri": "https://localhost:8080/"
    },
    "id": "qK6pA5Io4aO2",
    "outputId": "76400561-c075-4c28-8a5d-094e01fb4444"
   },
   "outputs": [
    {
     "data": {
      "text/plain": [
       "37485"
      ]
     },
     "execution_count": 1207,
     "metadata": {},
     "output_type": "execute_result"
    }
   ],
   "source": [
    "data_messages[data_messages['event'] == 'purchase']['client_id'].nunique()"
   ]
  },
  {
   "cell_type": "markdown",
   "metadata": {
    "id": "srqK2XOgEJoa"
   },
   "source": [
    "Создаю таблицу с группировкой по клиентам, для которых были события purchase:"
   ]
  },
  {
   "cell_type": "code",
   "execution_count": 1209,
   "metadata": {
    "id": "7zFfWiCi_zH1"
   },
   "outputs": [],
   "source": [
    "pt_data_mess_pe = data_messages[data_messages['event'] == 'purchase'].pivot_table(index = 'client_id',\n",
    "                                                                 values = ['event'],\n",
    "                                                                aggfunc = {'event': pd.Series.count\n",
    "                                                                          }).reset_index()\n",
    "pt_data_mess_pe = pt_data_mess_pe.rename(columns={'event': 'purchase_events_tot'})"
   ]
  },
  {
   "cell_type": "markdown",
   "metadata": {
    "id": "Wjc-mj6sEaIO"
   },
   "source": [
    "Объединяю со сводной табицей с признаками из датафрейма по сообщениям:"
   ]
  },
  {
   "cell_type": "code",
   "execution_count": 1211,
   "metadata": {
    "colab": {
     "base_uri": "https://localhost:8080/",
     "height": 423
    },
    "id": "P41o6YtbCHTT",
    "outputId": "18a9f67d-f55f-4162-d604-7750b237637b"
   },
   "outputs": [
    {
     "data": {
      "text/html": [
       "<div>\n",
       "<style scoped>\n",
       "    .dataframe tbody tr th:only-of-type {\n",
       "        vertical-align: middle;\n",
       "    }\n",
       "\n",
       "    .dataframe tbody tr th {\n",
       "        vertical-align: top;\n",
       "    }\n",
       "\n",
       "    .dataframe thead th {\n",
       "        text-align: right;\n",
       "    }\n",
       "</style>\n",
       "<table border=\"1\" class=\"dataframe\">\n",
       "  <thead>\n",
       "    <tr style=\"text-align: right;\">\n",
       "      <th></th>\n",
       "      <th>client_id</th>\n",
       "      <th>channel</th>\n",
       "      <th>total_events</th>\n",
       "      <th>#_of_message_ids</th>\n",
       "      <th>purchase_events_tot</th>\n",
       "    </tr>\n",
       "  </thead>\n",
       "  <tbody>\n",
       "    <tr>\n",
       "      <th>41977</th>\n",
       "      <td>1515915626010079153</td>\n",
       "      <td>mobile_push</td>\n",
       "      <td>3</td>\n",
       "      <td>1</td>\n",
       "      <td>1.0</td>\n",
       "    </tr>\n",
       "    <tr>\n",
       "      <th>41978</th>\n",
       "      <td>1515915626010152263</td>\n",
       "      <td>mobile_push</td>\n",
       "      <td>5</td>\n",
       "      <td>1</td>\n",
       "      <td>2.0</td>\n",
       "    </tr>\n",
       "    <tr>\n",
       "      <th>41979</th>\n",
       "      <td>1515915626010183608</td>\n",
       "      <td>mobile_push</td>\n",
       "      <td>4</td>\n",
       "      <td>2</td>\n",
       "      <td>NaN</td>\n",
       "    </tr>\n",
       "    <tr>\n",
       "      <th>41980</th>\n",
       "      <td>1515915626010221592</td>\n",
       "      <td>mobile_push</td>\n",
       "      <td>6</td>\n",
       "      <td>2</td>\n",
       "      <td>NaN</td>\n",
       "    </tr>\n",
       "    <tr>\n",
       "      <th>41981</th>\n",
       "      <td>1515915626010261344</td>\n",
       "      <td>mobile_push</td>\n",
       "      <td>3</td>\n",
       "      <td>1</td>\n",
       "      <td>NaN</td>\n",
       "    </tr>\n",
       "  </tbody>\n",
       "</table>\n",
       "</div>"
      ],
      "text/plain": [
       "                 client_id      channel  total_events  #_of_message_ids  \\\n",
       "41977  1515915626010079153  mobile_push             3                 1   \n",
       "41978  1515915626010152263  mobile_push             5                 1   \n",
       "41979  1515915626010183608  mobile_push             4                 2   \n",
       "41980  1515915626010221592  mobile_push             6                 2   \n",
       "41981  1515915626010261344  mobile_push             3                 1   \n",
       "\n",
       "       purchase_events_tot  \n",
       "41977                  1.0  \n",
       "41978                  2.0  \n",
       "41979                  NaN  \n",
       "41980                  NaN  \n",
       "41981                  NaN  "
      ]
     },
     "execution_count": 1211,
     "metadata": {},
     "output_type": "execute_result"
    }
   ],
   "source": [
    "train_messages = train_messages.merge(pt_data_mess_pe, how='left', on='client_id')\n",
    "train_messages.tail()"
   ]
  },
  {
   "cell_type": "markdown",
   "metadata": {
    "id": "PGFOS31NEkuQ"
   },
   "source": [
    "Заполняю пропуски в столбце purchase_events_tot нулями в предположении, что покупок не было:"
   ]
  },
  {
   "cell_type": "code",
   "execution_count": 1213,
   "metadata": {
    "colab": {
     "base_uri": "https://localhost:8080/",
     "height": 206
    },
    "id": "HgbXjD73Dtzx",
    "outputId": "bee99f0c-3938-46ac-86a0-0b98e271fb43"
   },
   "outputs": [
    {
     "data": {
      "text/html": [
       "<div>\n",
       "<style scoped>\n",
       "    .dataframe tbody tr th:only-of-type {\n",
       "        vertical-align: middle;\n",
       "    }\n",
       "\n",
       "    .dataframe tbody tr th {\n",
       "        vertical-align: top;\n",
       "    }\n",
       "\n",
       "    .dataframe thead th {\n",
       "        text-align: right;\n",
       "    }\n",
       "</style>\n",
       "<table border=\"1\" class=\"dataframe\">\n",
       "  <thead>\n",
       "    <tr style=\"text-align: right;\">\n",
       "      <th></th>\n",
       "      <th>client_id</th>\n",
       "      <th>channel</th>\n",
       "      <th>total_events</th>\n",
       "      <th>#_of_message_ids</th>\n",
       "      <th>purchase_events_tot</th>\n",
       "    </tr>\n",
       "  </thead>\n",
       "  <tbody>\n",
       "    <tr>\n",
       "      <th>0</th>\n",
       "      <td>1515915625468060902</td>\n",
       "      <td>email</td>\n",
       "      <td>177</td>\n",
       "      <td>127</td>\n",
       "      <td>5</td>\n",
       "    </tr>\n",
       "    <tr>\n",
       "      <th>1</th>\n",
       "      <td>1515915625468061003</td>\n",
       "      <td>email</td>\n",
       "      <td>165</td>\n",
       "      <td>154</td>\n",
       "      <td>1</td>\n",
       "    </tr>\n",
       "    <tr>\n",
       "      <th>2</th>\n",
       "      <td>1515915625468061099</td>\n",
       "      <td>email</td>\n",
       "      <td>276</td>\n",
       "      <td>215</td>\n",
       "      <td>0</td>\n",
       "    </tr>\n",
       "    <tr>\n",
       "      <th>3</th>\n",
       "      <td>1515915625468061100</td>\n",
       "      <td>mobile_push</td>\n",
       "      <td>428</td>\n",
       "      <td>268</td>\n",
       "      <td>1</td>\n",
       "    </tr>\n",
       "    <tr>\n",
       "      <th>4</th>\n",
       "      <td>1515915625468061170</td>\n",
       "      <td>email</td>\n",
       "      <td>293</td>\n",
       "      <td>243</td>\n",
       "      <td>3</td>\n",
       "    </tr>\n",
       "  </tbody>\n",
       "</table>\n",
       "</div>"
      ],
      "text/plain": [
       "             client_id      channel  total_events  #_of_message_ids  \\\n",
       "0  1515915625468060902        email           177               127   \n",
       "1  1515915625468061003        email           165               154   \n",
       "2  1515915625468061099        email           276               215   \n",
       "3  1515915625468061100  mobile_push           428               268   \n",
       "4  1515915625468061170        email           293               243   \n",
       "\n",
       "   purchase_events_tot  \n",
       "0                    5  \n",
       "1                    1  \n",
       "2                    0  \n",
       "3                    1  \n",
       "4                    3  "
      ]
     },
     "execution_count": 1213,
     "metadata": {},
     "output_type": "execute_result"
    }
   ],
   "source": [
    "train_messages['purchase_events_tot'] = train_messages['purchase_events_tot'].fillna(0).astype('int32')\n",
    "train_messages.head()"
   ]
  },
  {
   "cell_type": "markdown",
   "metadata": {
    "id": "OJp9tR_mUDy1"
   },
   "source": [
    "Значение purchase по сути является целевым признаком. Есть смысл ввести признак числа часов между временем рассылки и временем покупки. Для тех пользователей, которые вообще покупки не сделали можно приравнять его к очень болльшому значению."
   ]
  },
  {
   "cell_type": "markdown",
   "metadata": {
    "id": "g4WMAlOrRzTZ"
   },
   "source": [
    "Собираю рассылки, которые закончились покупками в отдельный датафрейм."
   ]
  },
  {
   "cell_type": "code",
   "execution_count": null,
   "metadata": {
    "id": "m7STTzEiGBQ6"
   },
   "outputs": [],
   "source": [
    "data_mess_w_pur = data_messages[data_messages['message_id'].isin(data_messages[data_messages['event'] == 'purchase']['message_id'].unique())].reset_index(drop=True)"
   ]
  },
  {
   "cell_type": "code",
   "execution_count": null,
   "metadata": {
    "colab": {
     "base_uri": "https://localhost:8080/",
     "height": 206
    },
    "id": "v9iVYCOrL2bk",
    "outputId": "21ba8924-5fb8-44d4-a7cc-eec32b5cbd05"
   },
   "outputs": [],
   "source": [
    "data_mess_w_pur.head()"
   ]
  },
  {
   "cell_type": "markdown",
   "metadata": {
    "id": "vFjkTQf8SB1I"
   },
   "source": [
    "Создам сводную таблицу с вычислением времени между первым и последним events для каждого message_id в минутах:"
   ]
  },
  {
   "cell_type": "code",
   "execution_count": null,
   "metadata": {
    "colab": {
     "base_uri": "https://localhost:8080/",
     "height": 262
    },
    "id": "AeUgvrtHCBcK",
    "outputId": "8049209c-a90a-43ef-d1c9-5d8540e40ddc"
   },
   "outputs": [],
   "source": [
    "data_mess_time_delta = data_mess_w_pur.pivot_table(index = 'message_id',\n",
    "                                                   values = ['created_at', 'client_id'],\n",
    "                                                   aggfunc = {'created_at': lambda x: (max(x) - min(x)),\n",
    "                                                              'client_id': min\n",
    "                                                             }).reset_index().drop(['message_id'], axis=1)\n",
    "data_mess_time_delta['created_at'] = data_mess_time_delta['created_at'].dt.total_seconds().div(60).astype(int)\n",
    "data_mess_time_delta.head()"
   ]
  },
  {
   "cell_type": "markdown",
   "metadata": {
    "id": "OGl2_pZ1VdNS"
   },
   "source": [
    "Теперь из полученной таблицы сделаю сводную таблицу по клиентам с минимальным временем между крайними events рассылки:"
   ]
  },
  {
   "cell_type": "code",
   "execution_count": null,
   "metadata": {
    "colab": {
     "base_uri": "https://localhost:8080/",
     "height": 262
    },
    "id": "UMATg558WF1j",
    "outputId": "65a69292-6187-4c6e-9a49-7e4e70536066"
   },
   "outputs": [],
   "source": [
    "data_mess_time_delta = data_mess_time_delta.pivot_table(index='client_id',\n",
    "                                 values='created_at',\n",
    "                                 aggfunc=min).reset_index()\n",
    "data_mess_time_delta = data_mess_time_delta.rename(columns={'created_at': 'min_time_delta_4_event'})\n",
    "data_mess_time_delta.head()"
   ]
  },
  {
   "cell_type": "markdown",
   "metadata": {
    "id": "A47BT2jzXoal"
   },
   "source": [
    "Выведу максимальное значение признака:"
   ]
  },
  {
   "cell_type": "code",
   "execution_count": null,
   "metadata": {
    "colab": {
     "base_uri": "https://localhost:8080/",
     "height": 335
    },
    "id": "ceRo4mFyXObH",
    "outputId": "82d7e31c-96a8-47e9-d1c1-992694897880"
   },
   "outputs": [],
   "source": [
    "data_mess_time_delta['min_time_delta_4_event'].describe()"
   ]
  },
  {
   "cell_type": "markdown",
   "metadata": {
    "id": "OXWrMjcxX5Yi"
   },
   "source": [
    "Максмальным временем заполню данные для клиентов, по которым нет рассылок с event значением purchase"
   ]
  },
  {
   "cell_type": "code",
   "execution_count": null,
   "metadata": {
    "colab": {
     "base_uri": "https://localhost:8080/",
     "height": 206
    },
    "id": "ZE0LHeAcYHCp",
    "outputId": "0649009b-e851-4a9f-cb34-cac6f8c855eb"
   },
   "outputs": [],
   "source": [
    "train_messages = train_messages.merge(data_mess_time_delta, how='left', on='client_id')\n",
    "train_messages.head()"
   ]
  },
  {
   "cell_type": "code",
   "execution_count": null,
   "metadata": {
    "colab": {
     "base_uri": "https://localhost:8080/",
     "height": 206
    },
    "id": "0jZ5qKcvYdWd",
    "outputId": "8248c95e-b54b-4435-fde1-b49848e6f56c"
   },
   "outputs": [],
   "source": [
    "train_messages['min_time_delta_4_event'] = train_messages['min_time_delta_4_event'].fillna(data_mess_time_delta['min_time_delta_4_event'].max()*10)\n",
    "train_messages.head()"
   ]
  },
  {
   "cell_type": "markdown",
   "metadata": {
    "id": "v3E5OrJnYzM6"
   },
   "source": [
    "# Создание финального датафрейма для модели МО"
   ]
  },
  {
   "cell_type": "markdown",
   "metadata": {
    "id": "7RsyYCvmY8BQ"
   },
   "source": [
    "Объединяю все признаки в одну таблицу и проведу заполнение отсутствующих данных."
   ]
  },
  {
   "cell_type": "code",
   "execution_count": null,
   "metadata": {
    "colab": {
     "base_uri": "https://localhost:8080/",
     "height": 226
    },
    "id": "Kma60GDJYw0K",
    "outputId": "f0472eb8-821d-42ec-9b96-8ad77e80a22f"
   },
   "outputs": [],
   "source": [
    "final_data = data_target.merge(train_messages, how='left', on='client_id').merge(train_data, how='left', on='client_id')\n",
    "final_data.head()"
   ]
  },
  {
   "cell_type": "code",
   "execution_count": null,
   "metadata": {
    "colab": {
     "base_uri": "https://localhost:8080/"
    },
    "id": "Wi6LWdhpaoHl",
    "outputId": "e90b962e-199c-4805-8fbb-5df37e164c6d"
   },
   "outputs": [],
   "source": [
    "final_data.info()"
   ]
  },
  {
   "cell_type": "markdown",
   "metadata": {
    "id": "_Ji0QtgKawoo"
   },
   "source": [
    "Заполню пропуски в столбцах модой:"
   ]
  },
  {
   "cell_type": "code",
   "execution_count": null,
   "metadata": {
    "colab": {
     "base_uri": "https://localhost:8080/"
    },
    "id": "-T4NSi66a1Cr",
    "outputId": "f2ab8eb1-31bb-4d8b-85bd-08fafeb2504a"
   },
   "outputs": [],
   "source": [
    "col_na = ['total_events', '#_of_message_ids', 'purchase_events_tot', 'min_time_delta_4_event']\n",
    "for col in col_na:\n",
    "    val = final_data[col].mode()[0]\n",
    "    final_data[col] = final_data[col].fillna(val)\n",
    "final_data['channel'] = final_data['channel'].fillna('mobile_push')\n",
    "final_data.info()"
   ]
  },
  {
   "cell_type": "code",
   "execution_count": null,
   "metadata": {},
   "outputs": [],
   "source": [
    "final_data['channel'].unique()"
   ]
  },
  {
   "cell_type": "markdown",
   "metadata": {
    "id": "W2evSWNxDoJp"
   },
   "source": [
    "Построю матрицу корреляции:"
   ]
  },
  {
   "cell_type": "code",
   "execution_count": null,
   "metadata": {
    "id": "ueuF1lX1Dran"
   },
   "outputs": [],
   "source": [
    "plt.suptitle('Матрица корреляции Phi_K для обучающей выборки')\n",
    "sns.heatmap(\n",
    "    final_data.phik_matrix(\n",
    "      interval_cols=['client_id', 'target', 'total_events', '#_of_message_ids', 'purchase_events_tot', 'min_time_delta_4_event', 'days_from_output_date', 'primary_cat', 'quantity', 'tot_spent']\n",
    "    ), annot=True, fmt='.2f', cmap='coolwarm'\n",
    ");\n",
    "plt.figure(figsize=(15, 10))\n",
    "plt.show();"
   ]
  },
  {
   "cell_type": "markdown",
   "metadata": {},
   "source": [
    "Из графика видно, что только признак days_from_output_date имеет наибоьший коэффициент корреляции, но его величниа составляет 0.12, что очень мало."
   ]
  },
  {
   "cell_type": "markdown",
   "metadata": {
    "id": "v1YGvkaBDUu-"
   },
   "source": [
    "Формирую обучающую и валидационную выборки:"
   ]
  },
  {
   "cell_type": "code",
   "execution_count": null,
   "metadata": {
    "id": "Q2AP4MGzCPFu"
   },
   "outputs": [],
   "source": [
    "X = final_data.drop(['target', 'client_id'], axis=1)\n",
    "y = final_data['target']\n",
    "X_train, X_test, y_train, y_test = train_test_split(\n",
    "    X,\n",
    "    y,\n",
    "    test_size = 0.25,\n",
    "    random_state=RANDOM_STATE,\n",
    "    stratify=y\n",
    ")"
   ]
  },
  {
   "cell_type": "markdown",
   "metadata": {
    "id": "ZavYoY9QFXBC"
   },
   "source": [
    "Создаю пайплайны для подготовки данных:"
   ]
  },
  {
   "cell_type": "code",
   "execution_count": null,
   "metadata": {},
   "outputs": [],
   "source": [
    "ohe_col = ['channel', 'primary_cat']\n",
    "ohe_pipe = Pipeline(\n",
    "    [\n",
    "      (\n",
    "       'ohe',\n",
    "       OneHotEncoder(drop='first',\n",
    "                     handle_unknown='ignore')#,\n",
    "                     #sparse=False)\n",
    "      )\n",
    "    ]\n",
    ")"
   ]
  },
  {
   "cell_type": "code",
   "execution_count": null,
   "metadata": {},
   "outputs": [],
   "source": [
    "num_col = ['total_events', '#_of_message_ids', 'purchase_events_tot', 'min_time_delta_4_event', 'days_from_output_date', 'quantity', 'tot_spent']"
   ]
  },
  {
   "cell_type": "code",
   "execution_count": null,
   "metadata": {},
   "outputs": [],
   "source": [
    "data_preproc = ColumnTransformer(\n",
    "    [\n",
    "        ('ohe', ohe_pipe, ohe_col),\n",
    "        ('num', StandardScaler(), num_col),\n",
    "    ],\n",
    "    remainder='passthrough'\n",
    ")"
   ]
  },
  {
   "cell_type": "markdown",
   "metadata": {},
   "source": [
    "Ввожу модели с их гиперпараметрами для прербора:"
   ]
  },
  {
   "cell_type": "code",
   "execution_count": null,
   "metadata": {},
   "outputs": [],
   "source": [
    "param_distr = [\n",
    "    {\n",
    "        'models': [LogisticRegression()],\n",
    "        'models__penalty': ['l1', 'l2', 'none'],\n",
    "        'preproc__num': [StandardScaler(), MinMaxScaler()]\n",
    "    },\n",
    "    {\n",
    "        'models': [DecisionTreeClassifier()],\n",
    "        'models__max_depth': [5, 10, 15, 20]\n",
    "    },\n",
    "    {\n",
    "        'models': [CatBoostClassifier(loss_function=\"Logloss\", verbose=False)],\n",
    "        'models__max_depth': [10, 15, 20], # максимальная глубина дерева\n",
    "        'models__n_estimators': [50, 75, 100] # число деревьев в бустинге\n",
    "    }\n",
    "\n",
    "]"
   ]
  },
  {
   "cell_type": "code",
   "execution_count": null,
   "metadata": {},
   "outputs": [],
   "source": [
    "pipe_final = Pipeline(\n",
    "    [\n",
    "        ('preproc', data_preproc),\n",
    "        ('models', LogisticRegression())\n",
    "    ]\n",
    ")"
   ]
  },
  {
   "cell_type": "code",
   "execution_count": null,
   "metadata": {},
   "outputs": [],
   "source": [
    "rand_srch = RandomizedSearchCV(\n",
    "    pipe_final,\n",
    "    param_distr,\n",
    "    cv = 5,\n",
    "    scoring='roc_auc',\n",
    "    random_state = RANDOM_STATE,\n",
    "    n_jobs=-1\n",
    ")"
   ]
  },
  {
   "cell_type": "code",
   "execution_count": null,
   "metadata": {},
   "outputs": [],
   "source": [
    "rand_srch.fit(X_train, y_train)"
   ]
  },
  {
   "cell_type": "code",
   "execution_count": null,
   "metadata": {},
   "outputs": [],
   "source": [
    "result = pd.DataFrame(rand_srch.cv_results_)\n",
    "result[['rank_test_score', 'param_models', 'mean_test_score','params', 'mean_score_time']].sort_values(['rank_test_score', 'mean_score_time']).head(20)"
   ]
  },
  {
   "cell_type": "code",
   "execution_count": null,
   "metadata": {},
   "outputs": [],
   "source": [
    "rand_srch.best_estimator_"
   ]
  },
  {
   "cell_type": "code",
   "execution_count": null,
   "metadata": {},
   "outputs": [],
   "source": [
    "y_pred = rand_srch.predict(X_test)\n",
    "roc_auc = roc_auc_score(y_test, y_pred)\n",
    "print(f'Метрика ROC AUC для валидационной выборки составляет: {roc_auc:0.4f}')"
   ]
  },
  {
   "cell_type": "markdown",
   "metadata": {},
   "source": [
    "# Выводы"
   ]
  },
  {
   "cell_type": "markdown",
   "metadata": {},
   "source": [
    "На основе представленных датафреймов были сгенерированы признаки и на их основе составлен датасет, который использовался для создания нескольких моделей машинного обучения. \n",
    "<br>Далее был осуществлен подбор моделей и гиперпараметров для выбора наилучшей модели. В результате лучшей моделью стала модель логистической регрессии. Однако получено низкое значение целевой метрики ROC AUC равной 0.5 на валидационной выборке. Это связано с недостаточностью признаков, которые должны иметь более высоки коэффициент корреляции с target."
   ]
  },
  {
   "cell_type": "code",
   "execution_count": null,
   "metadata": {},
   "outputs": [],
   "source": [
    "pip freeze > requirements.txt"
   ]
  }
 ],
 "metadata": {
  "colab": {
   "provenance": []
  },
  "kernelspec": {
   "display_name": "Python [conda env:base] *",
   "language": "python",
   "name": "conda-base-py"
  },
  "language_info": {
   "codemirror_mode": {
    "name": "ipython",
    "version": 3
   },
   "file_extension": ".py",
   "mimetype": "text/x-python",
   "name": "python",
   "nbconvert_exporter": "python",
   "pygments_lexer": "ipython3",
   "version": "3.12.7"
  }
 },
 "nbformat": 4,
 "nbformat_minor": 4
}
